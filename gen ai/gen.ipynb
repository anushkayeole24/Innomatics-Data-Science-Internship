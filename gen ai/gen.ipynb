{
 "cells": [
  {
   "cell_type": "code",
   "execution_count": 1,
   "metadata": {},
   "outputs": [
    {
     "name": "stdout",
     "output_type": "stream",
     "text": [
      "hello\n"
     ]
    }
   ],
   "source": [
    "print(\"hello\")"
   ]
  },
  {
   "cell_type": "code",
   "execution_count": 1,
   "metadata": {},
   "outputs": [
    {
     "name": "stdout",
     "output_type": "stream",
     "text": [
      "Collecting langchain\n",
      "  Obtaining dependency information for langchain from https://files.pythonhosted.org/packages/ed/3e/93045d37eba24e0b5eb05312e30cd9e12805ea5f1ae9ba51ec8a7d2f5372/langchain-0.1.16-py3-none-any.whl.metadata\n",
      "  Downloading langchain-0.1.16-py3-none-any.whl.metadata (13 kB)\n",
      "Requirement already satisfied: PyYAML>=5.3 in c:\\users\\lenovo\\anaconda3\\lib\\site-packages (from langchain) (6.0)\n",
      "Requirement already satisfied: SQLAlchemy<3,>=1.4 in c:\\users\\lenovo\\anaconda3\\lib\\site-packages (from langchain) (1.4.39)\n",
      "Requirement already satisfied: aiohttp<4.0.0,>=3.8.3 in c:\\users\\lenovo\\anaconda3\\lib\\site-packages (from langchain) (3.8.5)\n",
      "Collecting dataclasses-json<0.7,>=0.5.7 (from langchain)\n",
      "  Obtaining dependency information for dataclasses-json<0.7,>=0.5.7 from https://files.pythonhosted.org/packages/91/ca/7219b838086086972e662c19e908694bdc6744537fb41b70392501b8b5e4/dataclasses_json-0.6.4-py3-none-any.whl.metadata\n",
      "  Downloading dataclasses_json-0.6.4-py3-none-any.whl.metadata (25 kB)\n",
      "Collecting jsonpatch<2.0,>=1.33 (from langchain)\n",
      "  Obtaining dependency information for jsonpatch<2.0,>=1.33 from https://files.pythonhosted.org/packages/73/07/02e16ed01e04a374e644b575638ec7987ae846d25ad97bcc9945a3ee4b0e/jsonpatch-1.33-py2.py3-none-any.whl.metadata\n",
      "  Downloading jsonpatch-1.33-py2.py3-none-any.whl.metadata (3.0 kB)\n",
      "Collecting langchain-community<0.1,>=0.0.32 (from langchain)\n",
      "  Obtaining dependency information for langchain-community<0.1,>=0.0.32 from https://files.pythonhosted.org/packages/0a/48/40d8863d18160f3d148d173db3180b0a558525562e9c5ab8c2a338684919/langchain_community-0.0.34-py3-none-any.whl.metadata\n",
      "  Downloading langchain_community-0.0.34-py3-none-any.whl.metadata (8.5 kB)\n",
      "Collecting langchain-core<0.2.0,>=0.1.42 (from langchain)\n",
      "  Obtaining dependency information for langchain-core<0.2.0,>=0.1.42 from https://files.pythonhosted.org/packages/fb/cf/acf1262e90831c76927a922623d6eebda92a6a036b2cb75447bc49af2ced/langchain_core-0.1.46-py3-none-any.whl.metadata\n",
      "  Downloading langchain_core-0.1.46-py3-none-any.whl.metadata (5.9 kB)\n",
      "Collecting langchain-text-splitters<0.1,>=0.0.1 (from langchain)\n",
      "  Obtaining dependency information for langchain-text-splitters<0.1,>=0.0.1 from https://files.pythonhosted.org/packages/9d/a1/aec824080111e9b4a4802b51b988032faa193828c865e11233d1b18e88fa/langchain_text_splitters-0.0.1-py3-none-any.whl.metadata\n",
      "  Downloading langchain_text_splitters-0.0.1-py3-none-any.whl.metadata (2.0 kB)\n",
      "Collecting langsmith<0.2.0,>=0.1.17 (from langchain)\n",
      "  Obtaining dependency information for langsmith<0.2.0,>=0.1.17 from https://files.pythonhosted.org/packages/d5/25/5b11df1caf58988a18b98e216f9fa4bdf4012c0f4043318093939674afc6/langsmith-0.1.51-py3-none-any.whl.metadata\n",
      "  Downloading langsmith-0.1.51-py3-none-any.whl.metadata (13 kB)\n",
      "Requirement already satisfied: numpy<2,>=1 in c:\\users\\lenovo\\anaconda3\\lib\\site-packages (from langchain) (1.24.3)\n",
      "Requirement already satisfied: pydantic<3,>=1 in c:\\users\\lenovo\\anaconda3\\lib\\site-packages (from langchain) (1.10.8)\n",
      "Requirement already satisfied: requests<3,>=2 in c:\\users\\lenovo\\anaconda3\\lib\\site-packages (from langchain) (2.31.0)\n",
      "Requirement already satisfied: tenacity<9.0.0,>=8.1.0 in c:\\users\\lenovo\\anaconda3\\lib\\site-packages (from langchain) (8.2.2)\n",
      "Requirement already satisfied: attrs>=17.3.0 in c:\\users\\lenovo\\anaconda3\\lib\\site-packages (from aiohttp<4.0.0,>=3.8.3->langchain) (22.1.0)\n",
      "Requirement already satisfied: charset-normalizer<4.0,>=2.0 in c:\\users\\lenovo\\anaconda3\\lib\\site-packages (from aiohttp<4.0.0,>=3.8.3->langchain) (2.0.4)\n",
      "Requirement already satisfied: multidict<7.0,>=4.5 in c:\\users\\lenovo\\anaconda3\\lib\\site-packages (from aiohttp<4.0.0,>=3.8.3->langchain) (6.0.2)\n",
      "Requirement already satisfied: async-timeout<5.0,>=4.0.0a3 in c:\\users\\lenovo\\anaconda3\\lib\\site-packages (from aiohttp<4.0.0,>=3.8.3->langchain) (4.0.3)\n",
      "Requirement already satisfied: yarl<2.0,>=1.0 in c:\\users\\lenovo\\anaconda3\\lib\\site-packages (from aiohttp<4.0.0,>=3.8.3->langchain) (1.8.1)\n",
      "Requirement already satisfied: frozenlist>=1.1.1 in c:\\users\\lenovo\\anaconda3\\lib\\site-packages (from aiohttp<4.0.0,>=3.8.3->langchain) (1.3.3)\n",
      "Requirement already satisfied: aiosignal>=1.1.2 in c:\\users\\lenovo\\anaconda3\\lib\\site-packages (from aiohttp<4.0.0,>=3.8.3->langchain) (1.2.0)\n",
      "Collecting marshmallow<4.0.0,>=3.18.0 (from dataclasses-json<0.7,>=0.5.7->langchain)\n",
      "  Obtaining dependency information for marshmallow<4.0.0,>=3.18.0 from https://files.pythonhosted.org/packages/38/04/37055b7013dfaaf66e3a9a51e46857cc9be151476a891b995fa70da7e139/marshmallow-3.21.1-py3-none-any.whl.metadata\n",
      "  Downloading marshmallow-3.21.1-py3-none-any.whl.metadata (7.2 kB)\n",
      "Collecting typing-inspect<1,>=0.4.0 (from dataclasses-json<0.7,>=0.5.7->langchain)\n",
      "  Obtaining dependency information for typing-inspect<1,>=0.4.0 from https://files.pythonhosted.org/packages/65/f3/107a22063bf27bdccf2024833d3445f4eea42b2e598abfbd46f6a63b6cb0/typing_inspect-0.9.0-py3-none-any.whl.metadata\n",
      "  Downloading typing_inspect-0.9.0-py3-none-any.whl.metadata (1.5 kB)\n",
      "Requirement already satisfied: jsonpointer>=1.9 in c:\\users\\lenovo\\anaconda3\\lib\\site-packages (from jsonpatch<2.0,>=1.33->langchain) (2.1)\n",
      "Collecting packaging<24.0,>=23.2 (from langchain-core<0.2.0,>=0.1.42->langchain)\n",
      "  Obtaining dependency information for packaging<24.0,>=23.2 from https://files.pythonhosted.org/packages/ec/1a/610693ac4ee14fcdf2d9bf3c493370e4f2ef7ae2e19217d7a237ff42367d/packaging-23.2-py3-none-any.whl.metadata\n",
      "  Downloading packaging-23.2-py3-none-any.whl.metadata (3.2 kB)\n",
      "Requirement already satisfied: orjson<4.0.0,>=3.9.14 in c:\\users\\lenovo\\anaconda3\\lib\\site-packages (from langsmith<0.2.0,>=0.1.17->langchain) (3.9.15)\n",
      "Requirement already satisfied: typing-extensions>=4.2.0 in c:\\users\\lenovo\\anaconda3\\lib\\site-packages (from pydantic<3,>=1->langchain) (4.7.1)\n",
      "Requirement already satisfied: idna<4,>=2.5 in c:\\users\\lenovo\\anaconda3\\lib\\site-packages (from requests<3,>=2->langchain) (3.4)\n",
      "Requirement already satisfied: urllib3<3,>=1.21.1 in c:\\users\\lenovo\\anaconda3\\lib\\site-packages (from requests<3,>=2->langchain) (1.26.16)\n",
      "Requirement already satisfied: certifi>=2017.4.17 in c:\\users\\lenovo\\anaconda3\\lib\\site-packages (from requests<3,>=2->langchain) (2024.2.2)\n",
      "Requirement already satisfied: greenlet!=0.4.17 in c:\\users\\lenovo\\anaconda3\\lib\\site-packages (from SQLAlchemy<3,>=1.4->langchain) (2.0.1)\n",
      "Requirement already satisfied: mypy-extensions>=0.3.0 in c:\\users\\lenovo\\anaconda3\\lib\\site-packages (from typing-inspect<1,>=0.4.0->dataclasses-json<0.7,>=0.5.7->langchain) (1.0.0)\n",
      "Downloading langchain-0.1.16-py3-none-any.whl (817 kB)\n",
      "   ---------------------------------------- 0.0/817.7 kB ? eta -:--:--\n",
      "   ------------------------------ -------- 645.1/817.7 kB 13.5 MB/s eta 0:00:01\n",
      "   --------------------------------------  809.0/817.7 kB 12.9 MB/s eta 0:00:01\n",
      "   --------------------------------------  809.0/817.7 kB 12.9 MB/s eta 0:00:01\n",
      "   ---------------------------------------- 817.7/817.7 kB 5.2 MB/s eta 0:00:00\n",
      "Downloading dataclasses_json-0.6.4-py3-none-any.whl (28 kB)\n",
      "Downloading jsonpatch-1.33-py2.py3-none-any.whl (12 kB)\n",
      "Downloading langchain_community-0.0.34-py3-none-any.whl (1.9 MB)\n",
      "   ---------------------------------------- 0.0/1.9 MB ? eta -:--:--\n",
      "   ----------------------- ---------------- 1.2/1.9 MB 37.0 MB/s eta 0:00:01\n",
      "   ------------------------------- -------- 1.5/1.9 MB 15.9 MB/s eta 0:00:01\n",
      "   ---------------------------------------  1.9/1.9 MB 13.7 MB/s eta 0:00:01\n",
      "   ---------------------------------------  1.9/1.9 MB 13.7 MB/s eta 0:00:01\n",
      "   ---------------------------------------  1.9/1.9 MB 13.7 MB/s eta 0:00:01\n",
      "   ---------------------------------------- 1.9/1.9 MB 8.2 MB/s eta 0:00:00\n",
      "Downloading langchain_core-0.1.46-py3-none-any.whl (299 kB)\n",
      "   ---------------------------------------- 0.0/299.3 kB ? eta -:--:--\n",
      "   ---------------------------------------  297.0/299.3 kB ? eta -:--:--\n",
      "   ---------------------------------------- 299.3/299.3 kB 3.7 MB/s eta 0:00:00\n",
      "Downloading langchain_text_splitters-0.0.1-py3-none-any.whl (21 kB)\n",
      "Downloading langsmith-0.1.51-py3-none-any.whl (115 kB)\n",
      "   ---------------------------------------- 0.0/116.0 kB ? eta -:--:--\n",
      "   -------------------------------------- - 112.6/116.0 kB ? eta -:--:--\n",
      "   ---------------------------------------- 116.0/116.0 kB 2.2 MB/s eta 0:00:00\n",
      "Downloading marshmallow-3.21.1-py3-none-any.whl (49 kB)\n",
      "   ---------------------------------------- 0.0/49.4 kB ? eta -:--:--\n",
      "   --------------------------------- ------ 41.0/49.4 kB ? eta -:--:--\n",
      "   --------------------------------- ------ 41.0/49.4 kB ? eta -:--:--\n",
      "   ---------------------------------------- 49.4/49.4 kB 277.5 kB/s eta 0:00:00\n",
      "Downloading packaging-23.2-py3-none-any.whl (53 kB)\n",
      "   ---------------------------------------- 0.0/53.0 kB ? eta -:--:--\n",
      "   -------------------------------------- - 51.2/53.0 kB ? eta -:--:--\n",
      "   ---------------------------------------- 53.0/53.0 kB 678.9 kB/s eta 0:00:00\n",
      "Downloading typing_inspect-0.9.0-py3-none-any.whl (8.8 kB)\n",
      "Installing collected packages: typing-inspect, packaging, jsonpatch, marshmallow, langsmith, langchain-core, dataclasses-json, langchain-text-splitters, langchain-community, langchain\n",
      "  Attempting uninstall: packaging\n",
      "    Found existing installation: packaging 23.1\n",
      "    Uninstalling packaging-23.1:\n",
      "      Successfully uninstalled packaging-23.1\n",
      "  Attempting uninstall: jsonpatch\n",
      "    Found existing installation: jsonpatch 1.32\n",
      "    Uninstalling jsonpatch-1.32:\n",
      "      Successfully uninstalled jsonpatch-1.32\n",
      "Successfully installed dataclasses-json-0.6.4 jsonpatch-1.33 langchain-0.1.16 langchain-community-0.0.34 langchain-core-0.1.46 langchain-text-splitters-0.0.1 langsmith-0.1.51 marshmallow-3.21.1 packaging-23.2 typing-inspect-0.9.0\n"
     ]
    },
    {
     "name": "stderr",
     "output_type": "stream",
     "text": [
      "ERROR: pip's dependency resolver does not currently take into account all the packages that are installed. This behaviour is the source of the following dependency conflicts.\n",
      "tables 3.8.0 requires blosc2~=2.0.0, which is not installed.\n",
      "tables 3.8.0 requires cython>=0.29.21, which is not installed.\n",
      "python-lsp-black 1.2.1 requires black>=22.3.0, but you have black 0.0 which is incompatible.\n"
     ]
    }
   ],
   "source": [
    "!pip install langchain"
   ]
  },
  {
   "cell_type": "code",
   "execution_count": 7,
   "metadata": {},
   "outputs": [
    {
     "name": "stdout",
     "output_type": "stream",
     "text": [
      "Requirement already satisfied: langchain-core in c:\\users\\lenovo\\anaconda3\\envs\\myenv\\lib\\site-packages (0.1.46)\n",
      "Requirement already satisfied: PyYAML>=5.3 in c:\\users\\lenovo\\anaconda3\\envs\\myenv\\lib\\site-packages (from langchain-core) (6.0.1)\n",
      "Requirement already satisfied: jsonpatch<2.0,>=1.33 in c:\\users\\lenovo\\anaconda3\\envs\\myenv\\lib\\site-packages (from langchain-core) (1.33)\n",
      "Requirement already satisfied: langsmith<0.2.0,>=0.1.0 in c:\\users\\lenovo\\anaconda3\\envs\\myenv\\lib\\site-packages (from langchain-core) (0.1.51)\n",
      "Requirement already satisfied: packaging<24.0,>=23.2 in c:\\users\\lenovo\\anaconda3\\envs\\myenv\\lib\\site-packages (from langchain-core) (23.2)\n",
      "Requirement already satisfied: pydantic<3,>=1 in c:\\users\\lenovo\\anaconda3\\envs\\myenv\\lib\\site-packages (from langchain-core) (2.7.1)\n",
      "Requirement already satisfied: tenacity<9.0.0,>=8.1.0 in c:\\users\\lenovo\\anaconda3\\envs\\myenv\\lib\\site-packages (from langchain-core) (8.2.3)\n",
      "Requirement already satisfied: jsonpointer>=1.9 in c:\\users\\lenovo\\anaconda3\\envs\\myenv\\lib\\site-packages (from jsonpatch<2.0,>=1.33->langchain-core) (2.4)\n",
      "Requirement already satisfied: orjson<4.0.0,>=3.9.14 in c:\\users\\lenovo\\anaconda3\\envs\\myenv\\lib\\site-packages (from langsmith<0.2.0,>=0.1.0->langchain-core) (3.10.1)\n",
      "Requirement already satisfied: requests<3,>=2 in c:\\users\\lenovo\\anaconda3\\envs\\myenv\\lib\\site-packages (from langsmith<0.2.0,>=0.1.0->langchain-core) (2.31.0)\n",
      "Requirement already satisfied: annotated-types>=0.4.0 in c:\\users\\lenovo\\anaconda3\\envs\\myenv\\lib\\site-packages (from pydantic<3,>=1->langchain-core) (0.6.0)\n",
      "Requirement already satisfied: pydantic-core==2.18.2 in c:\\users\\lenovo\\anaconda3\\envs\\myenv\\lib\\site-packages (from pydantic<3,>=1->langchain-core) (2.18.2)\n",
      "Requirement already satisfied: typing-extensions>=4.6.1 in c:\\users\\lenovo\\anaconda3\\envs\\myenv\\lib\\site-packages (from pydantic<3,>=1->langchain-core) (4.11.0)\n",
      "Requirement already satisfied: charset-normalizer<4,>=2 in c:\\users\\lenovo\\anaconda3\\envs\\myenv\\lib\\site-packages (from requests<3,>=2->langsmith<0.2.0,>=0.1.0->langchain-core) (3.3.2)\n",
      "Requirement already satisfied: idna<4,>=2.5 in c:\\users\\lenovo\\anaconda3\\envs\\myenv\\lib\\site-packages (from requests<3,>=2->langsmith<0.2.0,>=0.1.0->langchain-core) (3.7)\n",
      "Requirement already satisfied: urllib3<3,>=1.21.1 in c:\\users\\lenovo\\anaconda3\\envs\\myenv\\lib\\site-packages (from requests<3,>=2->langsmith<0.2.0,>=0.1.0->langchain-core) (2.2.1)\n",
      "Requirement already satisfied: certifi>=2017.4.17 in c:\\users\\lenovo\\anaconda3\\envs\\myenv\\lib\\site-packages (from requests<3,>=2->langsmith<0.2.0,>=0.1.0->langchain-core) (2024.2.2)\n"
     ]
    }
   ],
   "source": [
    "!pip install langchain-core"
   ]
  },
  {
   "cell_type": "code",
   "execution_count": 8,
   "metadata": {},
   "outputs": [
    {
     "name": "stdout",
     "output_type": "stream",
     "text": [
      "Collecting langchain-community\n",
      "  Using cached langchain_community-0.0.34-py3-none-any.whl.metadata (8.5 kB)\n",
      "Requirement already satisfied: PyYAML>=5.3 in c:\\users\\lenovo\\anaconda3\\envs\\myenv\\lib\\site-packages (from langchain-community) (6.0.1)\n",
      "Collecting SQLAlchemy<3,>=1.4 (from langchain-community)\n",
      "  Downloading SQLAlchemy-2.0.29-cp310-cp310-win_amd64.whl.metadata (9.8 kB)\n",
      "Collecting aiohttp<4.0.0,>=3.8.3 (from langchain-community)\n",
      "  Downloading aiohttp-3.9.5-cp310-cp310-win_amd64.whl.metadata (7.7 kB)\n",
      "Collecting dataclasses-json<0.7,>=0.5.7 (from langchain-community)\n",
      "  Using cached dataclasses_json-0.6.4-py3-none-any.whl.metadata (25 kB)\n",
      "Requirement already satisfied: langchain-core<0.2.0,>=0.1.45 in c:\\users\\lenovo\\anaconda3\\envs\\myenv\\lib\\site-packages (from langchain-community) (0.1.46)\n",
      "Requirement already satisfied: langsmith<0.2.0,>=0.1.0 in c:\\users\\lenovo\\anaconda3\\envs\\myenv\\lib\\site-packages (from langchain-community) (0.1.51)\n",
      "Requirement already satisfied: numpy<2,>=1 in c:\\users\\lenovo\\anaconda3\\envs\\myenv\\lib\\site-packages (from langchain-community) (1.26.4)\n",
      "Requirement already satisfied: requests<3,>=2 in c:\\users\\lenovo\\anaconda3\\envs\\myenv\\lib\\site-packages (from langchain-community) (2.31.0)\n",
      "Requirement already satisfied: tenacity<9.0.0,>=8.1.0 in c:\\users\\lenovo\\anaconda3\\envs\\myenv\\lib\\site-packages (from langchain-community) (8.2.3)\n",
      "Collecting aiosignal>=1.1.2 (from aiohttp<4.0.0,>=3.8.3->langchain-community)\n",
      "  Using cached aiosignal-1.3.1-py3-none-any.whl.metadata (4.0 kB)\n",
      "Collecting attrs>=17.3.0 (from aiohttp<4.0.0,>=3.8.3->langchain-community)\n",
      "  Using cached attrs-23.2.0-py3-none-any.whl.metadata (9.5 kB)\n",
      "Collecting frozenlist>=1.1.1 (from aiohttp<4.0.0,>=3.8.3->langchain-community)\n",
      "  Downloading frozenlist-1.4.1-cp310-cp310-win_amd64.whl.metadata (12 kB)\n",
      "Collecting multidict<7.0,>=4.5 (from aiohttp<4.0.0,>=3.8.3->langchain-community)\n",
      "  Downloading multidict-6.0.5-cp310-cp310-win_amd64.whl.metadata (4.3 kB)\n",
      "Collecting yarl<2.0,>=1.0 (from aiohttp<4.0.0,>=3.8.3->langchain-community)\n",
      "  Downloading yarl-1.9.4-cp310-cp310-win_amd64.whl.metadata (32 kB)\n",
      "Collecting async-timeout<5.0,>=4.0 (from aiohttp<4.0.0,>=3.8.3->langchain-community)\n",
      "  Downloading async_timeout-4.0.3-py3-none-any.whl.metadata (4.2 kB)\n",
      "Collecting marshmallow<4.0.0,>=3.18.0 (from dataclasses-json<0.7,>=0.5.7->langchain-community)\n",
      "  Using cached marshmallow-3.21.1-py3-none-any.whl.metadata (7.2 kB)\n",
      "Collecting typing-inspect<1,>=0.4.0 (from dataclasses-json<0.7,>=0.5.7->langchain-community)\n",
      "  Using cached typing_inspect-0.9.0-py3-none-any.whl.metadata (1.5 kB)\n",
      "Requirement already satisfied: jsonpatch<2.0,>=1.33 in c:\\users\\lenovo\\anaconda3\\envs\\myenv\\lib\\site-packages (from langchain-core<0.2.0,>=0.1.45->langchain-community) (1.33)\n",
      "Requirement already satisfied: packaging<24.0,>=23.2 in c:\\users\\lenovo\\anaconda3\\envs\\myenv\\lib\\site-packages (from langchain-core<0.2.0,>=0.1.45->langchain-community) (23.2)\n",
      "Requirement already satisfied: pydantic<3,>=1 in c:\\users\\lenovo\\anaconda3\\envs\\myenv\\lib\\site-packages (from langchain-core<0.2.0,>=0.1.45->langchain-community) (2.7.1)\n",
      "Requirement already satisfied: orjson<4.0.0,>=3.9.14 in c:\\users\\lenovo\\anaconda3\\envs\\myenv\\lib\\site-packages (from langsmith<0.2.0,>=0.1.0->langchain-community) (3.10.1)\n",
      "Requirement already satisfied: charset-normalizer<4,>=2 in c:\\users\\lenovo\\anaconda3\\envs\\myenv\\lib\\site-packages (from requests<3,>=2->langchain-community) (3.3.2)\n",
      "Requirement already satisfied: idna<4,>=2.5 in c:\\users\\lenovo\\anaconda3\\envs\\myenv\\lib\\site-packages (from requests<3,>=2->langchain-community) (3.7)\n",
      "Requirement already satisfied: urllib3<3,>=1.21.1 in c:\\users\\lenovo\\anaconda3\\envs\\myenv\\lib\\site-packages (from requests<3,>=2->langchain-community) (2.2.1)\n",
      "Requirement already satisfied: certifi>=2017.4.17 in c:\\users\\lenovo\\anaconda3\\envs\\myenv\\lib\\site-packages (from requests<3,>=2->langchain-community) (2024.2.2)\n",
      "Requirement already satisfied: typing-extensions>=4.6.0 in c:\\users\\lenovo\\anaconda3\\envs\\myenv\\lib\\site-packages (from SQLAlchemy<3,>=1.4->langchain-community) (4.11.0)\n",
      "Collecting greenlet!=0.4.17 (from SQLAlchemy<3,>=1.4->langchain-community)\n",
      "  Downloading greenlet-3.0.3-cp310-cp310-win_amd64.whl.metadata (3.9 kB)\n",
      "Requirement already satisfied: jsonpointer>=1.9 in c:\\users\\lenovo\\anaconda3\\envs\\myenv\\lib\\site-packages (from jsonpatch<2.0,>=1.33->langchain-core<0.2.0,>=0.1.45->langchain-community) (2.4)\n",
      "Requirement already satisfied: annotated-types>=0.4.0 in c:\\users\\lenovo\\anaconda3\\envs\\myenv\\lib\\site-packages (from pydantic<3,>=1->langchain-core<0.2.0,>=0.1.45->langchain-community) (0.6.0)\n",
      "Requirement already satisfied: pydantic-core==2.18.2 in c:\\users\\lenovo\\anaconda3\\envs\\myenv\\lib\\site-packages (from pydantic<3,>=1->langchain-core<0.2.0,>=0.1.45->langchain-community) (2.18.2)\n",
      "Collecting mypy-extensions>=0.3.0 (from typing-inspect<1,>=0.4.0->dataclasses-json<0.7,>=0.5.7->langchain-community)\n",
      "  Using cached mypy_extensions-1.0.0-py3-none-any.whl.metadata (1.1 kB)\n",
      "Using cached langchain_community-0.0.34-py3-none-any.whl (1.9 MB)\n",
      "Downloading aiohttp-3.9.5-cp310-cp310-win_amd64.whl (370 kB)\n",
      "   ---------------------------------------- 0.0/370.7 kB ? eta -:--:--\n",
      "   -- ------------------------------------- 20.5/370.7 kB ? eta -:--:--\n",
      "   -- ------------------------------------- 20.5/370.7 kB ? eta -:--:--\n",
      "   --- ----------------------------------- 30.7/370.7 kB 325.1 kB/s eta 0:00:02\n",
      "   ----- --------------------------------- 51.2/370.7 kB 327.7 kB/s eta 0:00:01\n",
      "   ------- ------------------------------- 71.7/370.7 kB 302.7 kB/s eta 0:00:01\n",
      "   ------- ------------------------------- 71.7/370.7 kB 302.7 kB/s eta 0:00:01\n",
      "   -------- ------------------------------ 81.9/370.7 kB 269.5 kB/s eta 0:00:02\n",
      "   ---------- --------------------------- 102.4/370.7 kB 281.0 kB/s eta 0:00:01\n",
      "   ---------- --------------------------- 102.4/370.7 kB 281.0 kB/s eta 0:00:01\n",
      "   ----------- -------------------------- 112.6/370.7 kB 252.2 kB/s eta 0:00:02\n",
      "   ----------- -------------------------- 112.6/370.7 kB 252.2 kB/s eta 0:00:02\n",
      "   ------------- ------------------------ 133.1/370.7 kB 253.4 kB/s eta 0:00:01\n",
      "   --------------- ---------------------- 153.6/370.7 kB 254.6 kB/s eta 0:00:01\n",
      "   ---------------- --------------------- 163.8/370.7 kB 251.8 kB/s eta 0:00:01\n",
      "   ------------------ ------------------- 184.3/370.7 kB 259.0 kB/s eta 0:00:01\n",
      "   ------------------- ------------------ 194.6/370.7 kB 262.2 kB/s eta 0:00:01\n",
      "   ---------------------- --------------- 215.0/370.7 kB 278.6 kB/s eta 0:00:01\n",
      "   ------------------------ ------------- 235.5/370.7 kB 288.4 kB/s eta 0:00:01\n",
      "   ------------------------- ------------ 245.8/370.7 kB 284.4 kB/s eta 0:00:01\n",
      "   --------------------------- ---------- 266.2/370.7 kB 292.6 kB/s eta 0:00:01\n",
      "   ---------------------------- --------- 276.5/370.7 kB 293.9 kB/s eta 0:00:01\n",
      "   -------------------------------- ----- 317.4/370.7 kB 307.2 kB/s eta 0:00:01\n",
      "   --------------------------------- ---- 327.7/370.7 kB 307.9 kB/s eta 0:00:01\n",
      "   ----------------------------------- -- 348.2/370.7 kB 317.9 kB/s eta 0:00:01\n",
      "   -------------------------------------  368.6/370.7 kB 322.9 kB/s eta 0:00:01\n",
      "   -------------------------------------- 370.7/370.7 kB 307.6 kB/s eta 0:00:00\n",
      "Using cached dataclasses_json-0.6.4-py3-none-any.whl (28 kB)\n",
      "Downloading SQLAlchemy-2.0.29-cp310-cp310-win_amd64.whl (2.1 MB)\n",
      "   ---------------------------------------- 0.0/2.1 MB ? eta -:--:--\n",
      "   ---------------------------------------- 0.0/2.1 MB ? eta -:--:--\n",
      "    --------------------------------------- 0.0/2.1 MB 660.6 kB/s eta 0:00:04\n",
      "   - -------------------------------------- 0.1/2.1 MB 550.5 kB/s eta 0:00:04\n",
      "   - -------------------------------------- 0.1/2.1 MB 438.9 kB/s eta 0:00:05\n",
      "   - -------------------------------------- 0.1/2.1 MB 438.1 kB/s eta 0:00:05\n",
      "   -- ------------------------------------- 0.1/2.1 MB 437.6 kB/s eta 0:00:05\n",
      "   -- ------------------------------------- 0.1/2.1 MB 425.1 kB/s eta 0:00:05\n",
      "   -- ------------------------------------- 0.2/2.1 MB 437.1 kB/s eta 0:00:05\n",
      "   --- ------------------------------------ 0.2/2.1 MB 436.9 kB/s eta 0:00:05\n",
      "   --- ------------------------------------ 0.2/2.1 MB 462.1 kB/s eta 0:00:05\n",
      "   ---- ----------------------------------- 0.2/2.1 MB 474.7 kB/s eta 0:00:04\n",
      "   ---- ----------------------------------- 0.2/2.1 MB 450.6 kB/s eta 0:00:05\n",
      "   ----- ---------------------------------- 0.3/2.1 MB 473.7 kB/s eta 0:00:04\n",
      "   ----- ---------------------------------- 0.3/2.1 MB 466.2 kB/s eta 0:00:04\n",
      "   ----- ---------------------------------- 0.3/2.1 MB 475.1 kB/s eta 0:00:04\n",
      "   ------ --------------------------------- 0.3/2.1 MB 457.8 kB/s eta 0:00:04\n",
      "   ------ --------------------------------- 0.4/2.1 MB 464.2 kB/s eta 0:00:04\n",
      "   ------- -------------------------------- 0.4/2.1 MB 450.3 kB/s eta 0:00:04\n",
      "   ------- -------------------------------- 0.4/2.1 MB 457.6 kB/s eta 0:00:04\n",
      "   -------- ------------------------------- 0.4/2.1 MB 460.2 kB/s eta 0:00:04\n",
      "   -------- ------------------------------- 0.4/2.1 MB 474.7 kB/s eta 0:00:04\n",
      "   -------- ------------------------------- 0.5/2.1 MB 462.0 kB/s eta 0:00:04\n",
      "   --------- ------------------------------ 0.5/2.1 MB 454.0 kB/s eta 0:00:04\n",
      "   --------- ------------------------------ 0.5/2.1 MB 453.2 kB/s eta 0:00:04\n",
      "   --------- ------------------------------ 0.5/2.1 MB 459.1 kB/s eta 0:00:04\n",
      "   ---------- ----------------------------- 0.5/2.1 MB 442.9 kB/s eta 0:00:04\n",
      "   ---------- ----------------------------- 0.5/2.1 MB 442.6 kB/s eta 0:00:04\n",
      "   ----------- ---------------------------- 0.6/2.1 MB 445.2 kB/s eta 0:00:04\n",
      "   ----------- ---------------------------- 0.6/2.1 MB 444.9 kB/s eta 0:00:04\n",
      "   ----------- ---------------------------- 0.6/2.1 MB 444.9 kB/s eta 0:00:04\n",
      "   ------------ --------------------------- 0.6/2.1 MB 437.0 kB/s eta 0:00:04\n",
      "   ------------ --------------------------- 0.6/2.1 MB 429.9 kB/s eta 0:00:04\n",
      "   ------------ --------------------------- 0.7/2.1 MB 430.1 kB/s eta 0:00:04\n",
      "   ------------- -------------------------- 0.7/2.1 MB 430.5 kB/s eta 0:00:04\n",
      "   ------------- -------------------------- 0.7/2.1 MB 428.3 kB/s eta 0:00:04\n",
      "   ------------- -------------------------- 0.7/2.1 MB 432.8 kB/s eta 0:00:04\n",
      "   -------------- ------------------------- 0.7/2.1 MB 431.0 kB/s eta 0:00:04\n",
      "   -------------- ------------------------- 0.8/2.1 MB 431.1 kB/s eta 0:00:04\n",
      "   -------------- ------------------------- 0.8/2.1 MB 429.3 kB/s eta 0:00:04\n",
      "   --------------- ------------------------ 0.8/2.1 MB 433.3 kB/s eta 0:00:03\n",
      "   --------------- ------------------------ 0.8/2.1 MB 424.1 kB/s eta 0:00:04\n",
      "   --------------- ------------------------ 0.8/2.1 MB 421.1 kB/s eta 0:00:03\n",
      "   --------------- ------------------------ 0.8/2.1 MB 421.1 kB/s eta 0:00:03\n",
      "   ---------------- ----------------------- 0.8/2.1 MB 418.1 kB/s eta 0:00:03\n",
      "   ---------------- ----------------------- 0.8/2.1 MB 410.4 kB/s eta 0:00:03\n",
      "   ---------------- ----------------------- 0.9/2.1 MB 407.9 kB/s eta 0:00:03\n",
      "   ---------------- ----------------------- 0.9/2.1 MB 403.7 kB/s eta 0:00:03\n",
      "   ----------------- ---------------------- 0.9/2.1 MB 404.4 kB/s eta 0:00:03\n",
      "   ----------------- ---------------------- 0.9/2.1 MB 404.4 kB/s eta 0:00:03\n",
      "   ----------------- ---------------------- 0.9/2.1 MB 399.5 kB/s eta 0:00:03\n",
      "   ----------------- ---------------------- 0.9/2.1 MB 395.9 kB/s eta 0:00:03\n",
      "   ------------------ --------------------- 1.0/2.1 MB 394.2 kB/s eta 0:00:03\n",
      "   ------------------ --------------------- 1.0/2.1 MB 388.2 kB/s eta 0:00:03\n",
      "   ------------------ --------------------- 1.0/2.1 MB 389.1 kB/s eta 0:00:03\n",
      "   ------------------- -------------------- 1.0/2.1 MB 390.1 kB/s eta 0:00:03\n",
      "   ------------------- -------------------- 1.0/2.1 MB 384.6 kB/s eta 0:00:03\n",
      "   ------------------- -------------------- 1.0/2.1 MB 385.5 kB/s eta 0:00:03\n",
      "   -------------------- ------------------- 1.0/2.1 MB 382.6 kB/s eta 0:00:03\n",
      "   -------------------- ------------------- 1.0/2.1 MB 382.6 kB/s eta 0:00:03\n",
      "   -------------------- ------------------- 1.1/2.1 MB 382.4 kB/s eta 0:00:03\n",
      "   -------------------- ------------------- 1.1/2.1 MB 382.4 kB/s eta 0:00:03\n",
      "   --------------------- ------------------ 1.1/2.1 MB 377.5 kB/s eta 0:00:03\n",
      "   --------------------- ------------------ 1.1/2.1 MB 378.6 kB/s eta 0:00:03\n",
      "   --------------------- ------------------ 1.1/2.1 MB 374.0 kB/s eta 0:00:03\n",
      "   ---------------------- ----------------- 1.1/2.1 MB 373.2 kB/s eta 0:00:03\n",
      "   ---------------------- ----------------- 1.2/2.1 MB 370.8 kB/s eta 0:00:03\n",
      "   ---------------------- ----------------- 1.2/2.1 MB 370.8 kB/s eta 0:00:03\n",
      "   ---------------------- ----------------- 1.2/2.1 MB 369.9 kB/s eta 0:00:03\n",
      "   ----------------------- ---------------- 1.2/2.1 MB 369.1 kB/s eta 0:00:03\n",
      "   ----------------------- ---------------- 1.2/2.1 MB 366.9 kB/s eta 0:00:03\n",
      "   ----------------------- ---------------- 1.2/2.1 MB 366.9 kB/s eta 0:00:03\n",
      "   ----------------------- ---------------- 1.2/2.1 MB 364.5 kB/s eta 0:00:03\n",
      "   ----------------------- ---------------- 1.2/2.1 MB 362.5 kB/s eta 0:00:03\n",
      "   ------------------------ --------------- 1.3/2.1 MB 361.8 kB/s eta 0:00:03\n",
      "   ------------------------ --------------- 1.3/2.1 MB 362.8 kB/s eta 0:00:03\n",
      "   ------------------------ --------------- 1.3/2.1 MB 359.3 kB/s eta 0:00:03\n",
      "   ------------------------ --------------- 1.3/2.1 MB 359.3 kB/s eta 0:00:03\n",
      "   ------------------------- -------------- 1.3/2.1 MB 360.3 kB/s eta 0:00:03\n",
      "   ------------------------- -------------- 1.3/2.1 MB 357.0 kB/s eta 0:00:03\n",
      "   ------------------------- -------------- 1.3/2.1 MB 356.5 kB/s eta 0:00:03\n",
      "   ------------------------- -------------- 1.3/2.1 MB 356.5 kB/s eta 0:00:03\n",
      "   -------------------------- ------------- 1.4/2.1 MB 354.6 kB/s eta 0:00:03\n",
      "   -------------------------- ------------- 1.4/2.1 MB 352.9 kB/s eta 0:00:02\n",
      "   -------------------------- ------------- 1.4/2.1 MB 352.6 kB/s eta 0:00:02\n",
      "   --------------------------- ------------ 1.4/2.1 MB 351.0 kB/s eta 0:00:02\n",
      "   --------------------------- ------------ 1.4/2.1 MB 351.0 kB/s eta 0:00:02\n",
      "   --------------------------- ------------ 1.4/2.1 MB 349.3 kB/s eta 0:00:02\n",
      "   --------------------------- ------------ 1.4/2.1 MB 350.3 kB/s eta 0:00:02\n",
      "   ---------------------------- ----------- 1.5/2.1 MB 347.4 kB/s eta 0:00:02\n",
      "   ---------------------------- ----------- 1.5/2.1 MB 348.4 kB/s eta 0:00:02\n",
      "   ---------------------------- ----------- 1.5/2.1 MB 347.0 kB/s eta 0:00:02\n",
      "   ----------------------------- ---------- 1.5/2.1 MB 348.0 kB/s eta 0:00:02\n",
      "   ----------------------------- ---------- 1.5/2.1 MB 349.0 kB/s eta 0:00:02\n",
      "   ----------------------------- ---------- 1.5/2.1 MB 347.6 kB/s eta 0:00:02\n",
      "   ----------------------------- ---------- 1.6/2.1 MB 348.5 kB/s eta 0:00:02\n",
      "   ------------------------------ --------- 1.6/2.1 MB 345.9 kB/s eta 0:00:02\n",
      "   ------------------------------ --------- 1.6/2.1 MB 348.0 kB/s eta 0:00:02\n",
      "   ------------------------------ --------- 1.6/2.1 MB 348.9 kB/s eta 0:00:02\n",
      "   ------------------------------- -------- 1.6/2.1 MB 347.6 kB/s eta 0:00:02\n",
      "   ------------------------------- -------- 1.6/2.1 MB 349.7 kB/s eta 0:00:02\n",
      "   ------------------------------- -------- 1.6/2.1 MB 348.4 kB/s eta 0:00:02\n",
      "   -------------------------------- ------- 1.7/2.1 MB 347.0 kB/s eta 0:00:02\n",
      "   -------------------------------- ------- 1.7/2.1 MB 349.0 kB/s eta 0:00:02\n",
      "   -------------------------------- ------- 1.7/2.1 MB 347.7 kB/s eta 0:00:02\n",
      "   --------------------------------- ------ 1.7/2.1 MB 349.7 kB/s eta 0:00:02\n",
      "   --------------------------------- ------ 1.7/2.1 MB 348.5 kB/s eta 0:00:01\n",
      "   --------------------------------- ------ 1.8/2.1 MB 348.2 kB/s eta 0:00:01\n",
      "   ---------------------------------- ----- 1.8/2.1 MB 350.1 kB/s eta 0:00:01\n",
      "   ---------------------------------- ----- 1.8/2.1 MB 347.8 kB/s eta 0:00:01\n",
      "   ---------------------------------- ----- 1.8/2.1 MB 348.6 kB/s eta 0:00:01\n",
      "   ---------------------------------- ----- 1.8/2.1 MB 347.5 kB/s eta 0:00:01\n",
      "   ----------------------------------- ---- 1.8/2.1 MB 349.3 kB/s eta 0:00:01\n",
      "   ----------------------------------- ---- 1.9/2.1 MB 349.0 kB/s eta 0:00:01\n",
      "   ----------------------------------- ---- 1.9/2.1 MB 347.9 kB/s eta 0:00:01\n",
      "   ------------------------------------ --- 1.9/2.1 MB 348.6 kB/s eta 0:00:01\n",
      "   ------------------------------------ --- 1.9/2.1 MB 348.6 kB/s eta 0:00:01\n",
      "   ------------------------------------ --- 1.9/2.1 MB 346.5 kB/s eta 0:00:01\n",
      "   ------------------------------------ --- 1.9/2.1 MB 347.3 kB/s eta 0:00:01\n",
      "   ------------------------------------- -- 1.9/2.1 MB 348.1 kB/s eta 0:00:01\n",
      "   ------------------------------------- -- 1.9/2.1 MB 347.0 kB/s eta 0:00:01\n",
      "   -------------------------------------- - 2.0/2.1 MB 346.7 kB/s eta 0:00:01\n",
      "   -------------------------------------- - 2.0/2.1 MB 346.7 kB/s eta 0:00:01\n",
      "   -------------------------------------- - 2.0/2.1 MB 347.4 kB/s eta 0:00:01\n",
      "   -------------------------------------- - 2.0/2.1 MB 348.1 kB/s eta 0:00:01\n",
      "   ---------------------------------------  2.0/2.1 MB 347.1 kB/s eta 0:00:01\n",
      "   ---------------------------------------  2.0/2.1 MB 346.0 kB/s eta 0:00:01\n",
      "   ---------------------------------------  2.1/2.1 MB 345.0 kB/s eta 0:00:01\n",
      "   ---------------------------------------  2.1/2.1 MB 344.0 kB/s eta 0:00:01\n",
      "   ---------------------------------------  2.1/2.1 MB 344.0 kB/s eta 0:00:01\n",
      "   ---------------------------------------  2.1/2.1 MB 344.0 kB/s eta 0:00:01\n",
      "   ---------------------------------------  2.1/2.1 MB 344.0 kB/s eta 0:00:01\n",
      "   ---------------------------------------- 2.1/2.1 MB 335.5 kB/s eta 0:00:00\n",
      "Using cached aiosignal-1.3.1-py3-none-any.whl (7.6 kB)\n",
      "Downloading async_timeout-4.0.3-py3-none-any.whl (5.7 kB)\n",
      "Using cached attrs-23.2.0-py3-none-any.whl (60 kB)\n",
      "Downloading frozenlist-1.4.1-cp310-cp310-win_amd64.whl (50 kB)\n",
      "   ---------------------------------------- 0.0/50.4 kB ? eta -:--:--\n",
      "   -------- ------------------------------- 10.2/50.4 kB ? eta -:--:--\n",
      "   ------------------------ --------------- 30.7/50.4 kB 445.2 kB/s eta 0:00:01\n",
      "   -------------------------------- ------- 41.0/50.4 kB 330.3 kB/s eta 0:00:01\n",
      "   ---------------------------------------- 50.4/50.4 kB 287.1 kB/s eta 0:00:00\n",
      "Downloading greenlet-3.0.3-cp310-cp310-win_amd64.whl (292 kB)\n",
      "   ---------------------------------------- 0.0/292.3 kB ? eta -:--:--\n",
      "   - -------------------------------------- 10.2/292.3 kB ? eta -:--:--\n",
      "   - -------------------------------------- 10.2/292.3 kB ? eta -:--:--\n",
      "   ---- ---------------------------------- 30.7/292.3 kB 330.3 kB/s eta 0:00:01\n",
      "   ----- --------------------------------- 41.0/292.3 kB 245.8 kB/s eta 0:00:02\n",
      "   -------- ------------------------------ 61.4/292.3 kB 273.8 kB/s eta 0:00:01\n",
      "   -------- ------------------------------ 61.4/292.3 kB 273.8 kB/s eta 0:00:01\n",
      "   ---------- ---------------------------- 81.9/292.3 kB 286.7 kB/s eta 0:00:01\n",
      "   ------------ -------------------------- 92.2/292.3 kB 249.8 kB/s eta 0:00:01\n",
      "   ------------ -------------------------- 92.2/292.3 kB 249.8 kB/s eta 0:00:01\n",
      "   -------------- ----------------------- 112.6/292.3 kB 262.6 kB/s eta 0:00:01\n",
      "   --------------- ---------------------- 122.9/292.3 kB 248.7 kB/s eta 0:00:01\n",
      "   ------------------ ------------------- 143.4/292.3 kB 266.2 kB/s eta 0:00:01\n",
      "   --------------------- ---------------- 163.8/292.3 kB 273.3 kB/s eta 0:00:01\n",
      "   --------------------- ---------------- 163.8/292.3 kB 273.3 kB/s eta 0:00:01\n",
      "   ---------------------- --------------- 174.1/292.3 kB 262.1 kB/s eta 0:00:01\n",
      "   ------------------------- ------------ 194.6/292.3 kB 274.7 kB/s eta 0:00:01\n",
      "   ------------------------- ------------ 194.6/292.3 kB 274.7 kB/s eta 0:00:01\n",
      "   -------------------------- ----------- 204.8/292.3 kB 254.3 kB/s eta 0:00:01\n",
      "   ----------------------------- -------- 225.3/292.3 kB 259.7 kB/s eta 0:00:01\n",
      "   ------------------------------- ------ 245.8/292.3 kB 269.2 kB/s eta 0:00:01\n",
      "   --------------------------------- ---- 256.0/292.3 kB 266.8 kB/s eta 0:00:01\n",
      "   ----------------------------------- -- 276.5/292.3 kB 270.6 kB/s eta 0:00:01\n",
      "   -------------------------------------  286.7/292.3 kB 272.4 kB/s eta 0:00:01\n",
      "   -------------------------------------- 292.3/292.3 kB 261.7 kB/s eta 0:00:00\n",
      "Using cached marshmallow-3.21.1-py3-none-any.whl (49 kB)\n",
      "Downloading multidict-6.0.5-cp310-cp310-win_amd64.whl (28 kB)\n",
      "Using cached typing_inspect-0.9.0-py3-none-any.whl (8.8 kB)\n",
      "Downloading yarl-1.9.4-cp310-cp310-win_amd64.whl (76 kB)\n",
      "   ---------------------------------------- 0.0/76.4 kB ? eta -:--:--\n",
      "   ----- ---------------------------------- 10.2/76.4 kB ? eta -:--:--\n",
      "   ---------------- ----------------------- 30.7/76.4 kB 435.7 kB/s eta 0:00:01\n",
      "   --------------------- ------------------ 41.0/76.4 kB 326.8 kB/s eta 0:00:01\n",
      "   -------------------------------- ------- 61.4/76.4 kB 363.1 kB/s eta 0:00:01\n",
      "   ------------------------------------- -- 71.7/76.4 kB 393.8 kB/s eta 0:00:01\n",
      "   ---------------------------------------- 76.4/76.4 kB 302.1 kB/s eta 0:00:00\n",
      "Using cached mypy_extensions-1.0.0-py3-none-any.whl (4.7 kB)\n",
      "Installing collected packages: mypy-extensions, multidict, marshmallow, greenlet, frozenlist, attrs, async-timeout, yarl, typing-inspect, SQLAlchemy, aiosignal, dataclasses-json, aiohttp, langchain-community\n",
      "Successfully installed SQLAlchemy-2.0.29 aiohttp-3.9.5 aiosignal-1.3.1 async-timeout-4.0.3 attrs-23.2.0 dataclasses-json-0.6.4 frozenlist-1.4.1 greenlet-3.0.3 langchain-community-0.0.34 marshmallow-3.21.1 multidict-6.0.5 mypy-extensions-1.0.0 typing-inspect-0.9.0 yarl-1.9.4\n"
     ]
    }
   ],
   "source": [
    "!pip install langchain-community"
   ]
  },
  {
   "cell_type": "code",
   "execution_count": 9,
   "metadata": {},
   "outputs": [
    {
     "name": "stdout",
     "output_type": "stream",
     "text": [
      "Collecting langchain-text-splitters\n",
      "  Using cached langchain_text_splitters-0.0.1-py3-none-any.whl.metadata (2.0 kB)\n",
      "Requirement already satisfied: langchain-core<0.2.0,>=0.1.28 in c:\\users\\lenovo\\anaconda3\\envs\\myenv\\lib\\site-packages (from langchain-text-splitters) (0.1.46)\n",
      "Requirement already satisfied: PyYAML>=5.3 in c:\\users\\lenovo\\anaconda3\\envs\\myenv\\lib\\site-packages (from langchain-core<0.2.0,>=0.1.28->langchain-text-splitters) (6.0.1)\n",
      "Requirement already satisfied: jsonpatch<2.0,>=1.33 in c:\\users\\lenovo\\anaconda3\\envs\\myenv\\lib\\site-packages (from langchain-core<0.2.0,>=0.1.28->langchain-text-splitters) (1.33)\n",
      "Requirement already satisfied: langsmith<0.2.0,>=0.1.0 in c:\\users\\lenovo\\anaconda3\\envs\\myenv\\lib\\site-packages (from langchain-core<0.2.0,>=0.1.28->langchain-text-splitters) (0.1.51)\n",
      "Requirement already satisfied: packaging<24.0,>=23.2 in c:\\users\\lenovo\\anaconda3\\envs\\myenv\\lib\\site-packages (from langchain-core<0.2.0,>=0.1.28->langchain-text-splitters) (23.2)\n",
      "Requirement already satisfied: pydantic<3,>=1 in c:\\users\\lenovo\\anaconda3\\envs\\myenv\\lib\\site-packages (from langchain-core<0.2.0,>=0.1.28->langchain-text-splitters) (2.7.1)\n",
      "Requirement already satisfied: tenacity<9.0.0,>=8.1.0 in c:\\users\\lenovo\\anaconda3\\envs\\myenv\\lib\\site-packages (from langchain-core<0.2.0,>=0.1.28->langchain-text-splitters) (8.2.3)\n",
      "Requirement already satisfied: jsonpointer>=1.9 in c:\\users\\lenovo\\anaconda3\\envs\\myenv\\lib\\site-packages (from jsonpatch<2.0,>=1.33->langchain-core<0.2.0,>=0.1.28->langchain-text-splitters) (2.4)\n",
      "Requirement already satisfied: orjson<4.0.0,>=3.9.14 in c:\\users\\lenovo\\anaconda3\\envs\\myenv\\lib\\site-packages (from langsmith<0.2.0,>=0.1.0->langchain-core<0.2.0,>=0.1.28->langchain-text-splitters) (3.10.1)\n",
      "Requirement already satisfied: requests<3,>=2 in c:\\users\\lenovo\\anaconda3\\envs\\myenv\\lib\\site-packages (from langsmith<0.2.0,>=0.1.0->langchain-core<0.2.0,>=0.1.28->langchain-text-splitters) (2.31.0)\n",
      "Requirement already satisfied: annotated-types>=0.4.0 in c:\\users\\lenovo\\anaconda3\\envs\\myenv\\lib\\site-packages (from pydantic<3,>=1->langchain-core<0.2.0,>=0.1.28->langchain-text-splitters) (0.6.0)\n",
      "Requirement already satisfied: pydantic-core==2.18.2 in c:\\users\\lenovo\\anaconda3\\envs\\myenv\\lib\\site-packages (from pydantic<3,>=1->langchain-core<0.2.0,>=0.1.28->langchain-text-splitters) (2.18.2)\n",
      "Requirement already satisfied: typing-extensions>=4.6.1 in c:\\users\\lenovo\\anaconda3\\envs\\myenv\\lib\\site-packages (from pydantic<3,>=1->langchain-core<0.2.0,>=0.1.28->langchain-text-splitters) (4.11.0)\n",
      "Requirement already satisfied: charset-normalizer<4,>=2 in c:\\users\\lenovo\\anaconda3\\envs\\myenv\\lib\\site-packages (from requests<3,>=2->langsmith<0.2.0,>=0.1.0->langchain-core<0.2.0,>=0.1.28->langchain-text-splitters) (3.3.2)\n",
      "Requirement already satisfied: idna<4,>=2.5 in c:\\users\\lenovo\\anaconda3\\envs\\myenv\\lib\\site-packages (from requests<3,>=2->langsmith<0.2.0,>=0.1.0->langchain-core<0.2.0,>=0.1.28->langchain-text-splitters) (3.7)\n",
      "Requirement already satisfied: urllib3<3,>=1.21.1 in c:\\users\\lenovo\\anaconda3\\envs\\myenv\\lib\\site-packages (from requests<3,>=2->langsmith<0.2.0,>=0.1.0->langchain-core<0.2.0,>=0.1.28->langchain-text-splitters) (2.2.1)\n",
      "Requirement already satisfied: certifi>=2017.4.17 in c:\\users\\lenovo\\anaconda3\\envs\\myenv\\lib\\site-packages (from requests<3,>=2->langsmith<0.2.0,>=0.1.0->langchain-core<0.2.0,>=0.1.28->langchain-text-splitters) (2024.2.2)\n",
      "Using cached langchain_text_splitters-0.0.1-py3-none-any.whl (21 kB)\n",
      "Installing collected packages: langchain-text-splitters\n",
      "Successfully installed langchain-text-splitters-0.0.1\n"
     ]
    }
   ],
   "source": [
    "!pip install langchain-text-splitters"
   ]
  },
  {
   "cell_type": "code",
   "execution_count": 10,
   "metadata": {},
   "outputs": [
    {
     "name": "stdout",
     "output_type": "stream",
     "text": [
      "Collecting langchain-google-genai\n",
      "  Using cached langchain_google_genai-1.0.3-py3-none-any.whl.metadata (3.8 kB)\n",
      "Collecting google-generativeai<0.6.0,>=0.5.2 (from langchain-google-genai)\n",
      "  Using cached google_generativeai-0.5.2-py3-none-any.whl.metadata (3.9 kB)\n",
      "Requirement already satisfied: langchain-core<0.2,>=0.1.45 in c:\\users\\lenovo\\anaconda3\\envs\\myenv\\lib\\site-packages (from langchain-google-genai) (0.1.46)\n",
      "Collecting google-ai-generativelanguage==0.6.2 (from google-generativeai<0.6.0,>=0.5.2->langchain-google-genai)\n",
      "  Using cached google_ai_generativelanguage-0.6.2-py3-none-any.whl.metadata (5.6 kB)\n",
      "Collecting google-api-core (from google-generativeai<0.6.0,>=0.5.2->langchain-google-genai)\n",
      "  Using cached google_api_core-2.18.0-py3-none-any.whl.metadata (2.7 kB)\n",
      "Collecting google-api-python-client (from google-generativeai<0.6.0,>=0.5.2->langchain-google-genai)\n",
      "  Using cached google_api_python_client-2.127.0-py2.py3-none-any.whl.metadata (6.7 kB)\n",
      "Requirement already satisfied: google-auth>=2.15.0 in c:\\users\\lenovo\\anaconda3\\envs\\myenv\\lib\\site-packages (from google-generativeai<0.6.0,>=0.5.2->langchain-google-genai) (2.29.0)\n",
      "Requirement already satisfied: protobuf in c:\\users\\lenovo\\anaconda3\\envs\\myenv\\lib\\site-packages (from google-generativeai<0.6.0,>=0.5.2->langchain-google-genai) (4.25.3)\n",
      "Requirement already satisfied: pydantic in c:\\users\\lenovo\\anaconda3\\envs\\myenv\\lib\\site-packages (from google-generativeai<0.6.0,>=0.5.2->langchain-google-genai) (2.7.1)\n",
      "Requirement already satisfied: tqdm in c:\\users\\lenovo\\anaconda3\\envs\\myenv\\lib\\site-packages (from google-generativeai<0.6.0,>=0.5.2->langchain-google-genai) (4.66.2)\n",
      "Requirement already satisfied: typing-extensions in c:\\users\\lenovo\\anaconda3\\envs\\myenv\\lib\\site-packages (from google-generativeai<0.6.0,>=0.5.2->langchain-google-genai) (4.11.0)\n",
      "Collecting proto-plus<2.0.0dev,>=1.22.3 (from google-ai-generativelanguage==0.6.2->google-generativeai<0.6.0,>=0.5.2->langchain-google-genai)\n",
      "  Using cached proto_plus-1.23.0-py3-none-any.whl.metadata (2.2 kB)\n",
      "Requirement already satisfied: PyYAML>=5.3 in c:\\users\\lenovo\\anaconda3\\envs\\myenv\\lib\\site-packages (from langchain-core<0.2,>=0.1.45->langchain-google-genai) (6.0.1)\n",
      "Requirement already satisfied: jsonpatch<2.0,>=1.33 in c:\\users\\lenovo\\anaconda3\\envs\\myenv\\lib\\site-packages (from langchain-core<0.2,>=0.1.45->langchain-google-genai) (1.33)\n",
      "Requirement already satisfied: langsmith<0.2.0,>=0.1.0 in c:\\users\\lenovo\\anaconda3\\envs\\myenv\\lib\\site-packages (from langchain-core<0.2,>=0.1.45->langchain-google-genai) (0.1.51)\n",
      "Requirement already satisfied: packaging<24.0,>=23.2 in c:\\users\\lenovo\\anaconda3\\envs\\myenv\\lib\\site-packages (from langchain-core<0.2,>=0.1.45->langchain-google-genai) (23.2)\n",
      "Requirement already satisfied: tenacity<9.0.0,>=8.1.0 in c:\\users\\lenovo\\anaconda3\\envs\\myenv\\lib\\site-packages (from langchain-core<0.2,>=0.1.45->langchain-google-genai) (8.2.3)\n",
      "Requirement already satisfied: googleapis-common-protos<2.0.dev0,>=1.56.2 in c:\\users\\lenovo\\anaconda3\\envs\\myenv\\lib\\site-packages (from google-api-core->google-generativeai<0.6.0,>=0.5.2->langchain-google-genai) (1.63.0)\n",
      "Requirement already satisfied: requests<3.0.0.dev0,>=2.18.0 in c:\\users\\lenovo\\anaconda3\\envs\\myenv\\lib\\site-packages (from google-api-core->google-generativeai<0.6.0,>=0.5.2->langchain-google-genai) (2.31.0)\n",
      "Requirement already satisfied: cachetools<6.0,>=2.0.0 in c:\\users\\lenovo\\anaconda3\\envs\\myenv\\lib\\site-packages (from google-auth>=2.15.0->google-generativeai<0.6.0,>=0.5.2->langchain-google-genai) (5.3.3)\n",
      "Requirement already satisfied: pyasn1-modules>=0.2.1 in c:\\users\\lenovo\\anaconda3\\envs\\myenv\\lib\\site-packages (from google-auth>=2.15.0->google-generativeai<0.6.0,>=0.5.2->langchain-google-genai) (0.4.0)\n",
      "Requirement already satisfied: rsa<5,>=3.1.4 in c:\\users\\lenovo\\anaconda3\\envs\\myenv\\lib\\site-packages (from google-auth>=2.15.0->google-generativeai<0.6.0,>=0.5.2->langchain-google-genai) (4.9)\n",
      "Requirement already satisfied: jsonpointer>=1.9 in c:\\users\\lenovo\\anaconda3\\envs\\myenv\\lib\\site-packages (from jsonpatch<2.0,>=1.33->langchain-core<0.2,>=0.1.45->langchain-google-genai) (2.4)\n",
      "Requirement already satisfied: orjson<4.0.0,>=3.9.14 in c:\\users\\lenovo\\anaconda3\\envs\\myenv\\lib\\site-packages (from langsmith<0.2.0,>=0.1.0->langchain-core<0.2,>=0.1.45->langchain-google-genai) (3.10.1)\n",
      "Requirement already satisfied: annotated-types>=0.4.0 in c:\\users\\lenovo\\anaconda3\\envs\\myenv\\lib\\site-packages (from pydantic->google-generativeai<0.6.0,>=0.5.2->langchain-google-genai) (0.6.0)\n",
      "Requirement already satisfied: pydantic-core==2.18.2 in c:\\users\\lenovo\\anaconda3\\envs\\myenv\\lib\\site-packages (from pydantic->google-generativeai<0.6.0,>=0.5.2->langchain-google-genai) (2.18.2)\n",
      "Collecting httplib2<1.dev0,>=0.19.0 (from google-api-python-client->google-generativeai<0.6.0,>=0.5.2->langchain-google-genai)\n",
      "  Using cached httplib2-0.22.0-py3-none-any.whl.metadata (2.6 kB)\n",
      "Collecting google-auth-httplib2<1.0.0,>=0.2.0 (from google-api-python-client->google-generativeai<0.6.0,>=0.5.2->langchain-google-genai)\n",
      "  Using cached google_auth_httplib2-0.2.0-py2.py3-none-any.whl.metadata (2.2 kB)\n",
      "Collecting uritemplate<5,>=3.0.1 (from google-api-python-client->google-generativeai<0.6.0,>=0.5.2->langchain-google-genai)\n",
      "  Using cached uritemplate-4.1.1-py2.py3-none-any.whl.metadata (2.9 kB)\n",
      "Requirement already satisfied: colorama in c:\\users\\lenovo\\anaconda3\\envs\\myenv\\lib\\site-packages (from tqdm->google-generativeai<0.6.0,>=0.5.2->langchain-google-genai) (0.4.6)\n",
      "Requirement already satisfied: grpcio<2.0dev,>=1.33.2 in c:\\users\\lenovo\\anaconda3\\envs\\myenv\\lib\\site-packages (from google-api-core[grpc]!=2.0.*,!=2.1.*,!=2.10.*,!=2.2.*,!=2.3.*,!=2.4.*,!=2.5.*,!=2.6.*,!=2.7.*,!=2.8.*,!=2.9.*,<3.0.0dev,>=1.34.1->google-ai-generativelanguage==0.6.2->google-generativeai<0.6.0,>=0.5.2->langchain-google-genai) (1.62.2)\n",
      "Collecting grpcio-status<2.0.dev0,>=1.33.2 (from google-api-core[grpc]!=2.0.*,!=2.1.*,!=2.10.*,!=2.2.*,!=2.3.*,!=2.4.*,!=2.5.*,!=2.6.*,!=2.7.*,!=2.8.*,!=2.9.*,<3.0.0dev,>=1.34.1->google-ai-generativelanguage==0.6.2->google-generativeai<0.6.0,>=0.5.2->langchain-google-genai)\n",
      "  Using cached grpcio_status-1.62.2-py3-none-any.whl.metadata (1.3 kB)\n",
      "Collecting pyparsing!=3.0.0,!=3.0.1,!=3.0.2,!=3.0.3,<4,>=2.4.2 (from httplib2<1.dev0,>=0.19.0->google-api-python-client->google-generativeai<0.6.0,>=0.5.2->langchain-google-genai)\n",
      "  Using cached pyparsing-3.1.2-py3-none-any.whl.metadata (5.1 kB)\n",
      "Requirement already satisfied: pyasn1<0.7.0,>=0.4.6 in c:\\users\\lenovo\\anaconda3\\envs\\myenv\\lib\\site-packages (from pyasn1-modules>=0.2.1->google-auth>=2.15.0->google-generativeai<0.6.0,>=0.5.2->langchain-google-genai) (0.6.0)\n",
      "Requirement already satisfied: charset-normalizer<4,>=2 in c:\\users\\lenovo\\anaconda3\\envs\\myenv\\lib\\site-packages (from requests<3.0.0.dev0,>=2.18.0->google-api-core->google-generativeai<0.6.0,>=0.5.2->langchain-google-genai) (3.3.2)\n",
      "Requirement already satisfied: idna<4,>=2.5 in c:\\users\\lenovo\\anaconda3\\envs\\myenv\\lib\\site-packages (from requests<3.0.0.dev0,>=2.18.0->google-api-core->google-generativeai<0.6.0,>=0.5.2->langchain-google-genai) (3.7)\n",
      "Requirement already satisfied: urllib3<3,>=1.21.1 in c:\\users\\lenovo\\anaconda3\\envs\\myenv\\lib\\site-packages (from requests<3.0.0.dev0,>=2.18.0->google-api-core->google-generativeai<0.6.0,>=0.5.2->langchain-google-genai) (2.2.1)\n",
      "Requirement already satisfied: certifi>=2017.4.17 in c:\\users\\lenovo\\anaconda3\\envs\\myenv\\lib\\site-packages (from requests<3.0.0.dev0,>=2.18.0->google-api-core->google-generativeai<0.6.0,>=0.5.2->langchain-google-genai) (2024.2.2)\n",
      "Using cached langchain_google_genai-1.0.3-py3-none-any.whl (31 kB)\n",
      "Using cached google_generativeai-0.5.2-py3-none-any.whl (146 kB)\n",
      "Using cached google_ai_generativelanguage-0.6.2-py3-none-any.whl (664 kB)\n",
      "Using cached google_api_core-2.18.0-py3-none-any.whl (138 kB)\n",
      "Using cached google_api_python_client-2.127.0-py2.py3-none-any.whl (12.7 MB)\n",
      "Using cached google_auth_httplib2-0.2.0-py2.py3-none-any.whl (9.3 kB)\n",
      "Using cached httplib2-0.22.0-py3-none-any.whl (96 kB)\n",
      "Using cached proto_plus-1.23.0-py3-none-any.whl (48 kB)\n",
      "Using cached uritemplate-4.1.1-py2.py3-none-any.whl (10 kB)\n",
      "Using cached grpcio_status-1.62.2-py3-none-any.whl (14 kB)\n",
      "Using cached pyparsing-3.1.2-py3-none-any.whl (103 kB)\n",
      "Installing collected packages: uritemplate, pyparsing, proto-plus, httplib2, grpcio-status, google-auth-httplib2, google-api-core, google-api-python-client, google-ai-generativelanguage, google-generativeai, langchain-google-genai\n",
      "Successfully installed google-ai-generativelanguage-0.6.2 google-api-core-2.18.0 google-api-python-client-2.127.0 google-auth-httplib2-0.2.0 google-generativeai-0.5.2 grpcio-status-1.62.2 httplib2-0.22.0 langchain-google-genai-1.0.3 proto-plus-1.23.0 pyparsing-3.1.2 uritemplate-4.1.1\n"
     ]
    }
   ],
   "source": [
    "!pip install langchain-google-genai"
   ]
  },
  {
   "cell_type": "code",
   "execution_count": 11,
   "metadata": {},
   "outputs": [
    {
     "name": "stderr",
     "output_type": "stream",
     "text": [
      "ERROR: Could not find a version that satisfies the requirement PDFMinerLoader (from versions: none)\n",
      "ERROR: No matching distribution found for PDFMinerLoader\n"
     ]
    }
   ],
   "source": [
    "!pip install PDFMinerLoader"
   ]
  },
  {
   "cell_type": "code",
   "execution_count": 12,
   "metadata": {},
   "outputs": [
    {
     "name": "stdout",
     "output_type": "stream",
     "text": [
      "Collecting pdfminer.six\n",
      "  Using cached pdfminer.six-20231228-py3-none-any.whl.metadata (4.2 kB)\n",
      "Requirement already satisfied: charset-normalizer>=2.0.0 in c:\\users\\lenovo\\anaconda3\\envs\\myenv\\lib\\site-packages (from pdfminer.six) (3.3.2)\n",
      "Collecting cryptography>=36.0.0 (from pdfminer.six)\n",
      "  Using cached cryptography-42.0.5-cp39-abi3-win_amd64.whl.metadata (5.4 kB)\n",
      "Collecting cffi>=1.12 (from cryptography>=36.0.0->pdfminer.six)\n",
      "  Downloading cffi-1.16.0-cp310-cp310-win_amd64.whl.metadata (1.5 kB)\n",
      "Collecting pycparser (from cffi>=1.12->cryptography>=36.0.0->pdfminer.six)\n",
      "  Using cached pycparser-2.22-py3-none-any.whl.metadata (943 bytes)\n",
      "Using cached pdfminer.six-20231228-py3-none-any.whl (5.6 MB)\n",
      "Using cached cryptography-42.0.5-cp39-abi3-win_amd64.whl (2.9 MB)\n",
      "Downloading cffi-1.16.0-cp310-cp310-win_amd64.whl (181 kB)\n",
      "   ---------------------------------------- 0.0/181.6 kB ? eta -:--:--\n",
      "   -- ------------------------------------- 10.2/181.6 kB ? eta -:--:--\n",
      "   -- ------------------------------------- 10.2/181.6 kB ? eta -:--:--\n",
      "   -- ------------------------------------- 10.2/181.6 kB ? eta -:--:--\n",
      "   ------ -------------------------------- 30.7/181.6 kB 187.9 kB/s eta 0:00:01\n",
      "   ------------- ------------------------- 61.4/181.6 kB 299.4 kB/s eta 0:00:01\n",
      "   ------------------- ------------------- 92.2/181.6 kB 375.8 kB/s eta 0:00:01\n",
      "   ----------------------- -------------- 112.6/181.6 kB 437.6 kB/s eta 0:00:01\n",
      "   -------------------------------- ----- 153.6/181.6 kB 459.5 kB/s eta 0:00:01\n",
      "   ------------------------------------ - 174.1/181.6 kB 477.7 kB/s eta 0:00:01\n",
      "   ------------------------------------ - 174.1/181.6 kB 477.7 kB/s eta 0:00:01\n",
      "   ------------------------------------ - 174.1/181.6 kB 477.7 kB/s eta 0:00:01\n",
      "   ------------------------------------ - 174.1/181.6 kB 477.7 kB/s eta 0:00:01\n",
      "   -------------------------------------- 181.6/181.6 kB 332.8 kB/s eta 0:00:00\n",
      "Using cached pycparser-2.22-py3-none-any.whl (117 kB)\n",
      "Installing collected packages: pycparser, cffi, cryptography, pdfminer.six\n",
      "Successfully installed cffi-1.16.0 cryptography-42.0.5 pdfminer.six-20231228 pycparser-2.22\n"
     ]
    }
   ],
   "source": [
    "!pip install pdfminer.six"
   ]
  },
  {
   "cell_type": "code",
   "execution_count": 13,
   "metadata": {},
   "outputs": [
    {
     "name": "stdout",
     "output_type": "stream",
     "text": [
      "Collecting nltk\n",
      "  Using cached nltk-3.8.1-py3-none-any.whl.metadata (2.8 kB)\n",
      "Requirement already satisfied: click in c:\\users\\lenovo\\anaconda3\\envs\\myenv\\lib\\site-packages (from nltk) (8.1.7)\n",
      "Collecting joblib (from nltk)\n",
      "  Using cached joblib-1.4.0-py3-none-any.whl.metadata (5.4 kB)\n",
      "Collecting regex>=2021.8.3 (from nltk)\n",
      "  Downloading regex-2024.4.16-cp310-cp310-win_amd64.whl.metadata (41 kB)\n",
      "     ---------------------------------------- 0.0/42.0 kB ? eta -:--:--\n",
      "     --------- ------------------------------ 10.2/42.0 kB ? eta -:--:--\n",
      "     ------------------ ------------------- 20.5/42.0 kB 162.5 kB/s eta 0:00:01\n",
      "     ------------------ ------------------- 20.5/42.0 kB 162.5 kB/s eta 0:00:01\n",
      "     -------------------------------------  41.0/42.0 kB 196.9 kB/s eta 0:00:01\n",
      "     -------------------------------------  41.0/42.0 kB 196.9 kB/s eta 0:00:01\n",
      "     -------------------------------------- 42.0/42.0 kB 144.9 kB/s eta 0:00:00\n",
      "Requirement already satisfied: tqdm in c:\\users\\lenovo\\anaconda3\\envs\\myenv\\lib\\site-packages (from nltk) (4.66.2)\n",
      "Requirement already satisfied: colorama in c:\\users\\lenovo\\anaconda3\\envs\\myenv\\lib\\site-packages (from click->nltk) (0.4.6)\n",
      "Using cached nltk-3.8.1-py3-none-any.whl (1.5 MB)\n",
      "Downloading regex-2024.4.16-cp310-cp310-win_amd64.whl (268 kB)\n",
      "   ---------------------------------------- 0.0/268.9 kB ? eta -:--:--\n",
      "   ---- ----------------------------------- 30.7/268.9 kB ? eta -:--:--\n",
      "   ----- --------------------------------- 41.0/268.9 kB 991.0 kB/s eta 0:00:01\n",
      "   ------------- ------------------------- 92.2/268.9 kB 871.5 kB/s eta 0:00:01\n",
      "   -------------- ----------------------- 102.4/268.9 kB 845.5 kB/s eta 0:00:01\n",
      "   -------------------- ----------------- 143.4/268.9 kB 774.0 kB/s eta 0:00:01\n",
      "   -------------------------- ----------- 184.3/268.9 kB 743.9 kB/s eta 0:00:01\n",
      "   ------------------------------------ - 256.0/268.9 kB 874.6 kB/s eta 0:00:01\n",
      "   -------------------------------------  266.2/268.9 kB 862.0 kB/s eta 0:00:01\n",
      "   -------------------------------------  266.2/268.9 kB 862.0 kB/s eta 0:00:01\n",
      "   -------------------------------------  266.2/268.9 kB 862.0 kB/s eta 0:00:01\n",
      "   -------------------------------------- 268.9/268.9 kB 570.9 kB/s eta 0:00:00\n",
      "Using cached joblib-1.4.0-py3-none-any.whl (301 kB)\n",
      "Installing collected packages: regex, joblib, nltk\n",
      "Successfully installed joblib-1.4.0 nltk-3.8.1 regex-2024.4.16\n"
     ]
    }
   ],
   "source": [
    "!pip install nltk"
   ]
  },
  {
   "cell_type": "code",
   "execution_count": null,
   "metadata": {},
   "outputs": [],
   "source": []
  },
  {
   "cell_type": "code",
   "execution_count": 14,
   "metadata": {},
   "outputs": [
    {
     "name": "stderr",
     "output_type": "stream",
     "text": [
      "c:\\Users\\lenovo\\anaconda3\\envs\\myenv\\lib\\site-packages\\tqdm\\auto.py:21: TqdmWarning: IProgress not found. Please update jupyter and ipywidgets. See https://ipywidgets.readthedocs.io/en/stable/user_install.html\n",
      "  from .autonotebook import tqdm as notebook_tqdm\n"
     ]
    }
   ],
   "source": [
    "from langchain_core.messages import SystemMessage\n",
    "from langchain_core.prompts import ChatPromptTemplate, HumanMessagePromptTemplate\n",
    "from langchain_google_genai import ChatGoogleGenerativeAI\n",
    "from langchain_core.output_parsers import StrOutputParser\n",
    "from langchain_community.document_loaders import PDFMinerLoader\n",
    "from langchain_text_splitters import NLTKTextSplitter\n",
    "from langchain_google_genai import GoogleGenerativeAIEmbeddings\n",
    "from langchain_community.vectorstores import Chroma\n",
    "from langchain_core.runnables import RunnablePassthrough"
   ]
  },
  {
   "cell_type": "code",
   "execution_count": 15,
   "metadata": {},
   "outputs": [],
   "source": [
    "with open('key\\.genaikey.txt') as f: \n",
    "    KEY = f.read()"
   ]
  },
  {
   "cell_type": "code",
   "execution_count": 16,
   "metadata": {},
   "outputs": [],
   "source": [
    "chat_template = ChatPromptTemplate.from_messages([\n",
    "    SystemMessage(content=\"\"\"Hey there! I'm your friendly AI assistant! I'll assist you further. \n",
    "    I'm here to provide you with answers based on your questions.\"\"\"),\n",
    "    HumanMessagePromptTemplate.from_template(\"\"\"Let's uncover some insightful explanation together!\n",
    "    Context:\n",
    "    {context}\n",
    "    \n",
    "    Your Question: \n",
    "    {question}\n",
    "    \n",
    "    My Response: \"\"\")\n",
    "])"
   ]
  },
  {
   "cell_type": "code",
   "execution_count": 17,
   "metadata": {},
   "outputs": [],
   "source": [
    "chat_model = ChatGoogleGenerativeAI(google_api_key=KEY, model=\"gemini-1.5-pro-latest\")"
   ]
  },
  {
   "cell_type": "code",
   "execution_count": 18,
   "metadata": {},
   "outputs": [],
   "source": [
    "output_parser = StrOutputParser()"
   ]
  },
  {
   "cell_type": "code",
   "execution_count": 19,
   "metadata": {},
   "outputs": [],
   "source": [
    "pdf_loader = PDFMinerLoader(r\"Leave no context behind.pdf\")\n",
    "pdf_docs = pdf_loader.load()"
   ]
  },
  {
   "cell_type": "code",
   "execution_count": 20,
   "metadata": {},
   "outputs": [
    {
     "name": "stderr",
     "output_type": "stream",
     "text": [
      "Created a chunk of size 631, which is longer than the specified 500\n",
      "Created a chunk of size 514, which is longer than the specified 500\n",
      "Created a chunk of size 648, which is longer than the specified 500\n"
     ]
    }
   ],
   "source": [
    "text_split = NLTKTextSplitter(chunk_size=500, chunk_overlap=100)\n",
    "chunk = text_split.split_documents(pdf_docs)"
   ]
  },
  {
   "cell_type": "code",
   "execution_count": 21,
   "metadata": {},
   "outputs": [
    {
     "name": "stdout",
     "output_type": "stream",
     "text": [
      "Requirement already satisfied: chromadb in c:\\users\\lenovo\\anaconda3\\envs\\myenv\\lib\\site-packages (0.5.0)\n",
      "Requirement already satisfied: build>=1.0.3 in c:\\users\\lenovo\\anaconda3\\envs\\myenv\\lib\\site-packages (from chromadb) (1.2.1)\n",
      "Requirement already satisfied: requests>=2.28 in c:\\users\\lenovo\\anaconda3\\envs\\myenv\\lib\\site-packages (from chromadb) (2.31.0)\n",
      "Requirement already satisfied: pydantic>=1.9 in c:\\users\\lenovo\\anaconda3\\envs\\myenv\\lib\\site-packages (from chromadb) (2.7.1)\n",
      "Requirement already satisfied: chroma-hnswlib==0.7.3 in c:\\users\\lenovo\\anaconda3\\envs\\myenv\\lib\\site-packages (from chromadb) (0.7.3)\n",
      "Requirement already satisfied: fastapi>=0.95.2 in c:\\users\\lenovo\\anaconda3\\envs\\myenv\\lib\\site-packages (from chromadb) (0.110.2)\n",
      "Requirement already satisfied: uvicorn>=0.18.3 in c:\\users\\lenovo\\anaconda3\\envs\\myenv\\lib\\site-packages (from uvicorn[standard]>=0.18.3->chromadb) (0.29.0)\n",
      "Requirement already satisfied: numpy>=1.22.5 in c:\\users\\lenovo\\anaconda3\\envs\\myenv\\lib\\site-packages (from chromadb) (1.26.4)\n",
      "Requirement already satisfied: posthog>=2.4.0 in c:\\users\\lenovo\\anaconda3\\envs\\myenv\\lib\\site-packages (from chromadb) (3.5.0)\n",
      "Requirement already satisfied: typing-extensions>=4.5.0 in c:\\users\\lenovo\\anaconda3\\envs\\myenv\\lib\\site-packages (from chromadb) (4.11.0)\n",
      "Requirement already satisfied: onnxruntime>=1.14.1 in c:\\users\\lenovo\\anaconda3\\envs\\myenv\\lib\\site-packages (from chromadb) (1.17.3)\n",
      "Requirement already satisfied: opentelemetry-api>=1.2.0 in c:\\users\\lenovo\\anaconda3\\envs\\myenv\\lib\\site-packages (from chromadb) (1.24.0)\n",
      "Requirement already satisfied: opentelemetry-exporter-otlp-proto-grpc>=1.2.0 in c:\\users\\lenovo\\anaconda3\\envs\\myenv\\lib\\site-packages (from chromadb) (1.24.0)\n",
      "Requirement already satisfied: opentelemetry-instrumentation-fastapi>=0.41b0 in c:\\users\\lenovo\\anaconda3\\envs\\myenv\\lib\\site-packages (from chromadb) (0.45b0)\n",
      "Requirement already satisfied: opentelemetry-sdk>=1.2.0 in c:\\users\\lenovo\\anaconda3\\envs\\myenv\\lib\\site-packages (from chromadb) (1.24.0)\n",
      "Requirement already satisfied: tokenizers>=0.13.2 in c:\\users\\lenovo\\anaconda3\\envs\\myenv\\lib\\site-packages (from chromadb) (0.19.1)\n",
      "Requirement already satisfied: pypika>=0.48.9 in c:\\users\\lenovo\\anaconda3\\envs\\myenv\\lib\\site-packages (from chromadb) (0.48.9)\n",
      "Requirement already satisfied: tqdm>=4.65.0 in c:\\users\\lenovo\\anaconda3\\envs\\myenv\\lib\\site-packages (from chromadb) (4.66.2)\n",
      "Requirement already satisfied: overrides>=7.3.1 in c:\\users\\lenovo\\anaconda3\\envs\\myenv\\lib\\site-packages (from chromadb) (7.7.0)\n",
      "Requirement already satisfied: importlib-resources in c:\\users\\lenovo\\anaconda3\\envs\\myenv\\lib\\site-packages (from chromadb) (6.4.0)\n",
      "Requirement already satisfied: grpcio>=1.58.0 in c:\\users\\lenovo\\anaconda3\\envs\\myenv\\lib\\site-packages (from chromadb) (1.62.2)\n",
      "Requirement already satisfied: bcrypt>=4.0.1 in c:\\users\\lenovo\\anaconda3\\envs\\myenv\\lib\\site-packages (from chromadb) (4.1.2)\n",
      "Requirement already satisfied: typer>=0.9.0 in c:\\users\\lenovo\\anaconda3\\envs\\myenv\\lib\\site-packages (from chromadb) (0.12.3)\n",
      "Requirement already satisfied: kubernetes>=28.1.0 in c:\\users\\lenovo\\anaconda3\\envs\\myenv\\lib\\site-packages (from chromadb) (29.0.0)\n",
      "Requirement already satisfied: tenacity>=8.2.3 in c:\\users\\lenovo\\anaconda3\\envs\\myenv\\lib\\site-packages (from chromadb) (8.2.3)\n",
      "Requirement already satisfied: PyYAML>=6.0.0 in c:\\users\\lenovo\\anaconda3\\envs\\myenv\\lib\\site-packages (from chromadb) (6.0.1)\n",
      "Requirement already satisfied: mmh3>=4.0.1 in c:\\users\\lenovo\\anaconda3\\envs\\myenv\\lib\\site-packages (from chromadb) (4.1.0)\n",
      "Requirement already satisfied: orjson>=3.9.12 in c:\\users\\lenovo\\anaconda3\\envs\\myenv\\lib\\site-packages (from chromadb) (3.10.1)\n",
      "Requirement already satisfied: packaging>=19.1 in c:\\users\\lenovo\\anaconda3\\envs\\myenv\\lib\\site-packages (from build>=1.0.3->chromadb) (23.2)\n",
      "Requirement already satisfied: pyproject_hooks in c:\\users\\lenovo\\anaconda3\\envs\\myenv\\lib\\site-packages (from build>=1.0.3->chromadb) (1.0.0)\n",
      "Requirement already satisfied: colorama in c:\\users\\lenovo\\anaconda3\\envs\\myenv\\lib\\site-packages (from build>=1.0.3->chromadb) (0.4.6)\n",
      "Requirement already satisfied: tomli>=1.1.0 in c:\\users\\lenovo\\anaconda3\\envs\\myenv\\lib\\site-packages (from build>=1.0.3->chromadb) (2.0.1)\n",
      "Requirement already satisfied: starlette<0.38.0,>=0.37.2 in c:\\users\\lenovo\\anaconda3\\envs\\myenv\\lib\\site-packages (from fastapi>=0.95.2->chromadb) (0.37.2)\n",
      "Requirement already satisfied: certifi>=14.05.14 in c:\\users\\lenovo\\anaconda3\\envs\\myenv\\lib\\site-packages (from kubernetes>=28.1.0->chromadb) (2024.2.2)\n",
      "Requirement already satisfied: six>=1.9.0 in c:\\users\\lenovo\\anaconda3\\envs\\myenv\\lib\\site-packages (from kubernetes>=28.1.0->chromadb) (1.16.0)\n",
      "Requirement already satisfied: python-dateutil>=2.5.3 in c:\\users\\lenovo\\anaconda3\\envs\\myenv\\lib\\site-packages (from kubernetes>=28.1.0->chromadb) (2.9.0)\n",
      "Requirement already satisfied: google-auth>=1.0.1 in c:\\users\\lenovo\\anaconda3\\envs\\myenv\\lib\\site-packages (from kubernetes>=28.1.0->chromadb) (2.29.0)\n",
      "Requirement already satisfied: websocket-client!=0.40.0,!=0.41.*,!=0.42.*,>=0.32.0 in c:\\users\\lenovo\\anaconda3\\envs\\myenv\\lib\\site-packages (from kubernetes>=28.1.0->chromadb) (1.8.0)\n",
      "Requirement already satisfied: requests-oauthlib in c:\\users\\lenovo\\anaconda3\\envs\\myenv\\lib\\site-packages (from kubernetes>=28.1.0->chromadb) (2.0.0)\n",
      "Requirement already satisfied: oauthlib>=3.2.2 in c:\\users\\lenovo\\anaconda3\\envs\\myenv\\lib\\site-packages (from kubernetes>=28.1.0->chromadb) (3.2.2)\n",
      "Requirement already satisfied: urllib3>=1.24.2 in c:\\users\\lenovo\\anaconda3\\envs\\myenv\\lib\\site-packages (from kubernetes>=28.1.0->chromadb) (2.2.1)\n",
      "Requirement already satisfied: coloredlogs in c:\\users\\lenovo\\anaconda3\\envs\\myenv\\lib\\site-packages (from onnxruntime>=1.14.1->chromadb) (15.0.1)\n",
      "Requirement already satisfied: flatbuffers in c:\\users\\lenovo\\anaconda3\\envs\\myenv\\lib\\site-packages (from onnxruntime>=1.14.1->chromadb) (24.3.25)\n",
      "Requirement already satisfied: protobuf in c:\\users\\lenovo\\anaconda3\\envs\\myenv\\lib\\site-packages (from onnxruntime>=1.14.1->chromadb) (4.25.3)\n",
      "Requirement already satisfied: sympy in c:\\users\\lenovo\\anaconda3\\envs\\myenv\\lib\\site-packages (from onnxruntime>=1.14.1->chromadb) (1.12)\n",
      "Requirement already satisfied: deprecated>=1.2.6 in c:\\users\\lenovo\\anaconda3\\envs\\myenv\\lib\\site-packages (from opentelemetry-api>=1.2.0->chromadb) (1.2.14)\n",
      "Requirement already satisfied: importlib-metadata<=7.0,>=6.0 in c:\\users\\lenovo\\anaconda3\\envs\\myenv\\lib\\site-packages (from opentelemetry-api>=1.2.0->chromadb) (7.0.0)\n",
      "Requirement already satisfied: googleapis-common-protos~=1.52 in c:\\users\\lenovo\\anaconda3\\envs\\myenv\\lib\\site-packages (from opentelemetry-exporter-otlp-proto-grpc>=1.2.0->chromadb) (1.63.0)\n",
      "Requirement already satisfied: opentelemetry-exporter-otlp-proto-common==1.24.0 in c:\\users\\lenovo\\anaconda3\\envs\\myenv\\lib\\site-packages (from opentelemetry-exporter-otlp-proto-grpc>=1.2.0->chromadb) (1.24.0)\n",
      "Requirement already satisfied: opentelemetry-proto==1.24.0 in c:\\users\\lenovo\\anaconda3\\envs\\myenv\\lib\\site-packages (from opentelemetry-exporter-otlp-proto-grpc>=1.2.0->chromadb) (1.24.0)\n",
      "Requirement already satisfied: opentelemetry-instrumentation-asgi==0.45b0 in c:\\users\\lenovo\\anaconda3\\envs\\myenv\\lib\\site-packages (from opentelemetry-instrumentation-fastapi>=0.41b0->chromadb) (0.45b0)\n",
      "Requirement already satisfied: opentelemetry-instrumentation==0.45b0 in c:\\users\\lenovo\\anaconda3\\envs\\myenv\\lib\\site-packages (from opentelemetry-instrumentation-fastapi>=0.41b0->chromadb) (0.45b0)\n",
      "Requirement already satisfied: opentelemetry-semantic-conventions==0.45b0 in c:\\users\\lenovo\\anaconda3\\envs\\myenv\\lib\\site-packages (from opentelemetry-instrumentation-fastapi>=0.41b0->chromadb) (0.45b0)\n",
      "Requirement already satisfied: opentelemetry-util-http==0.45b0 in c:\\users\\lenovo\\anaconda3\\envs\\myenv\\lib\\site-packages (from opentelemetry-instrumentation-fastapi>=0.41b0->chromadb) (0.45b0)\n",
      "Requirement already satisfied: setuptools>=16.0 in c:\\users\\lenovo\\anaconda3\\envs\\myenv\\lib\\site-packages (from opentelemetry-instrumentation==0.45b0->opentelemetry-instrumentation-fastapi>=0.41b0->chromadb) (68.2.2)\n",
      "Requirement already satisfied: wrapt<2.0.0,>=1.0.0 in c:\\users\\lenovo\\anaconda3\\envs\\myenv\\lib\\site-packages (from opentelemetry-instrumentation==0.45b0->opentelemetry-instrumentation-fastapi>=0.41b0->chromadb) (1.16.0)\n",
      "Requirement already satisfied: asgiref~=3.0 in c:\\users\\lenovo\\anaconda3\\envs\\myenv\\lib\\site-packages (from opentelemetry-instrumentation-asgi==0.45b0->opentelemetry-instrumentation-fastapi>=0.41b0->chromadb) (3.8.1)\n",
      "Requirement already satisfied: monotonic>=1.5 in c:\\users\\lenovo\\anaconda3\\envs\\myenv\\lib\\site-packages (from posthog>=2.4.0->chromadb) (1.6)\n",
      "Requirement already satisfied: backoff>=1.10.0 in c:\\users\\lenovo\\anaconda3\\envs\\myenv\\lib\\site-packages (from posthog>=2.4.0->chromadb) (2.2.1)\n",
      "Requirement already satisfied: annotated-types>=0.4.0 in c:\\users\\lenovo\\anaconda3\\envs\\myenv\\lib\\site-packages (from pydantic>=1.9->chromadb) (0.6.0)\n",
      "Requirement already satisfied: pydantic-core==2.18.2 in c:\\users\\lenovo\\anaconda3\\envs\\myenv\\lib\\site-packages (from pydantic>=1.9->chromadb) (2.18.2)\n",
      "Requirement already satisfied: charset-normalizer<4,>=2 in c:\\users\\lenovo\\anaconda3\\envs\\myenv\\lib\\site-packages (from requests>=2.28->chromadb) (3.3.2)\n",
      "Requirement already satisfied: idna<4,>=2.5 in c:\\users\\lenovo\\anaconda3\\envs\\myenv\\lib\\site-packages (from requests>=2.28->chromadb) (3.7)\n",
      "Requirement already satisfied: huggingface-hub<1.0,>=0.16.4 in c:\\users\\lenovo\\anaconda3\\envs\\myenv\\lib\\site-packages (from tokenizers>=0.13.2->chromadb) (0.22.2)\n",
      "Requirement already satisfied: click>=8.0.0 in c:\\users\\lenovo\\anaconda3\\envs\\myenv\\lib\\site-packages (from typer>=0.9.0->chromadb) (8.1.7)\n",
      "Requirement already satisfied: shellingham>=1.3.0 in c:\\users\\lenovo\\anaconda3\\envs\\myenv\\lib\\site-packages (from typer>=0.9.0->chromadb) (1.5.4)\n",
      "Requirement already satisfied: rich>=10.11.0 in c:\\users\\lenovo\\anaconda3\\envs\\myenv\\lib\\site-packages (from typer>=0.9.0->chromadb) (13.7.1)\n",
      "Requirement already satisfied: h11>=0.8 in c:\\users\\lenovo\\anaconda3\\envs\\myenv\\lib\\site-packages (from uvicorn>=0.18.3->uvicorn[standard]>=0.18.3->chromadb) (0.14.0)\n",
      "Requirement already satisfied: httptools>=0.5.0 in c:\\users\\lenovo\\anaconda3\\envs\\myenv\\lib\\site-packages (from uvicorn[standard]>=0.18.3->chromadb) (0.6.1)\n",
      "Requirement already satisfied: python-dotenv>=0.13 in c:\\users\\lenovo\\anaconda3\\envs\\myenv\\lib\\site-packages (from uvicorn[standard]>=0.18.3->chromadb) (1.0.1)\n",
      "Requirement already satisfied: watchfiles>=0.13 in c:\\users\\lenovo\\anaconda3\\envs\\myenv\\lib\\site-packages (from uvicorn[standard]>=0.18.3->chromadb) (0.21.0)\n",
      "Requirement already satisfied: websockets>=10.4 in c:\\users\\lenovo\\anaconda3\\envs\\myenv\\lib\\site-packages (from uvicorn[standard]>=0.18.3->chromadb) (12.0)\n",
      "Requirement already satisfied: cachetools<6.0,>=2.0.0 in c:\\users\\lenovo\\anaconda3\\envs\\myenv\\lib\\site-packages (from google-auth>=1.0.1->kubernetes>=28.1.0->chromadb) (5.3.3)\n",
      "Requirement already satisfied: pyasn1-modules>=0.2.1 in c:\\users\\lenovo\\anaconda3\\envs\\myenv\\lib\\site-packages (from google-auth>=1.0.1->kubernetes>=28.1.0->chromadb) (0.4.0)\n",
      "Requirement already satisfied: rsa<5,>=3.1.4 in c:\\users\\lenovo\\anaconda3\\envs\\myenv\\lib\\site-packages (from google-auth>=1.0.1->kubernetes>=28.1.0->chromadb) (4.9)\n",
      "Requirement already satisfied: filelock in c:\\users\\lenovo\\anaconda3\\envs\\myenv\\lib\\site-packages (from huggingface-hub<1.0,>=0.16.4->tokenizers>=0.13.2->chromadb) (3.13.4)\n",
      "Requirement already satisfied: fsspec>=2023.5.0 in c:\\users\\lenovo\\anaconda3\\envs\\myenv\\lib\\site-packages (from huggingface-hub<1.0,>=0.16.4->tokenizers>=0.13.2->chromadb) (2024.3.1)\n",
      "Requirement already satisfied: zipp>=0.5 in c:\\users\\lenovo\\anaconda3\\envs\\myenv\\lib\\site-packages (from importlib-metadata<=7.0,>=6.0->opentelemetry-api>=1.2.0->chromadb) (3.17.0)\n",
      "Requirement already satisfied: markdown-it-py>=2.2.0 in c:\\users\\lenovo\\anaconda3\\envs\\myenv\\lib\\site-packages (from rich>=10.11.0->typer>=0.9.0->chromadb) (3.0.0)\n",
      "Requirement already satisfied: pygments<3.0.0,>=2.13.0 in c:\\users\\lenovo\\anaconda3\\envs\\myenv\\lib\\site-packages (from rich>=10.11.0->typer>=0.9.0->chromadb) (2.17.2)\n",
      "Requirement already satisfied: anyio<5,>=3.4.0 in c:\\users\\lenovo\\anaconda3\\envs\\myenv\\lib\\site-packages (from starlette<0.38.0,>=0.37.2->fastapi>=0.95.2->chromadb) (4.3.0)\n",
      "Requirement already satisfied: humanfriendly>=9.1 in c:\\users\\lenovo\\anaconda3\\envs\\myenv\\lib\\site-packages (from coloredlogs->onnxruntime>=1.14.1->chromadb) (10.0)\n",
      "Requirement already satisfied: mpmath>=0.19 in c:\\users\\lenovo\\anaconda3\\envs\\myenv\\lib\\site-packages (from sympy->onnxruntime>=1.14.1->chromadb) (1.3.0)\n",
      "Requirement already satisfied: sniffio>=1.1 in c:\\users\\lenovo\\anaconda3\\envs\\myenv\\lib\\site-packages (from anyio<5,>=3.4.0->starlette<0.38.0,>=0.37.2->fastapi>=0.95.2->chromadb) (1.3.1)\n",
      "Requirement already satisfied: exceptiongroup>=1.0.2 in c:\\users\\lenovo\\anaconda3\\envs\\myenv\\lib\\site-packages (from anyio<5,>=3.4.0->starlette<0.38.0,>=0.37.2->fastapi>=0.95.2->chromadb) (1.2.0)\n",
      "Requirement already satisfied: pyreadline3 in c:\\users\\lenovo\\anaconda3\\envs\\myenv\\lib\\site-packages (from humanfriendly>=9.1->coloredlogs->onnxruntime>=1.14.1->chromadb) (3.4.1)\n",
      "Requirement already satisfied: mdurl~=0.1 in c:\\users\\lenovo\\anaconda3\\envs\\myenv\\lib\\site-packages (from markdown-it-py>=2.2.0->rich>=10.11.0->typer>=0.9.0->chromadb) (0.1.2)\n",
      "Requirement already satisfied: pyasn1<0.7.0,>=0.4.6 in c:\\users\\lenovo\\anaconda3\\envs\\myenv\\lib\\site-packages (from pyasn1-modules>=0.2.1->google-auth>=1.0.1->kubernetes>=28.1.0->chromadb) (0.6.0)\n"
     ]
    }
   ],
   "source": [
    "!pip install chromadb"
   ]
  },
  {
   "cell_type": "code",
   "execution_count": 22,
   "metadata": {},
   "outputs": [
    {
     "name": "stderr",
     "output_type": "stream",
     "text": [
      "ERROR: Could not find a version that satisfies the requirement GoogleGenerativeAIEmbeddings (from versions: none)\n",
      "ERROR: No matching distribution found for GoogleGenerativeAIEmbeddings\n"
     ]
    }
   ],
   "source": [
    "!pip install GoogleGenerativeAIEmbeddings"
   ]
  },
  {
   "cell_type": "code",
   "execution_count": 24,
   "metadata": {},
   "outputs": [],
   "source": [
    "embedding_model = GoogleGenerativeAIEmbeddings(google_api_key=KEY, model=\"models/embedding-001\")\n",
    "db = Chroma.from_documents(chunk, embedding_model, persist_directory=\"chroma_db\")"
   ]
  },
  {
   "cell_type": "code",
   "execution_count": 25,
   "metadata": {},
   "outputs": [
    {
     "data": {
      "text/plain": [
       "GoogleGenerativeAIEmbeddings(model='models/embedding-001', task_type=None, google_api_key=SecretStr('**********'), credentials=None, client_options=None, transport=None, request_options=None)"
      ]
     },
     "execution_count": 25,
     "metadata": {},
     "output_type": "execute_result"
    }
   ],
   "source": [
    "embedding_model"
   ]
  },
  {
   "cell_type": "code",
   "execution_count": 26,
   "metadata": {},
   "outputs": [
    {
     "data": {
      "text/plain": [
       "<langchain_community.vectorstores.chroma.Chroma at 0x2ab47f343d0>"
      ]
     },
     "execution_count": 26,
     "metadata": {},
     "output_type": "execute_result"
    }
   ],
   "source": [
    "db"
   ]
  },
  {
   "cell_type": "code",
   "execution_count": 27,
   "metadata": {},
   "outputs": [],
   "source": [
    "# Define retriever and format docs function\n",
    "retriever = db.as_retriever(search_kwargs={\"k\": 7})\n",
    "def format_docs(docs):\n",
    "    return \"\\n\\n\".join(doc.page_content for doc in docs)"
   ]
  },
  {
   "cell_type": "code",
   "execution_count": 28,
   "metadata": {},
   "outputs": [],
   "source": [
    "rag_ch = (\n",
    "    {\"context\": retriever | format_docs, \"question\": RunnablePassthrough()}\n",
    "    | chat_template\n",
    "    | chat_model\n",
    "    | output_parser\n",
    ")"
   ]
  },
  {
   "cell_type": "code",
   "execution_count": null,
   "metadata": {},
   "outputs": [],
   "source": []
  }
 ],
 "metadata": {
  "kernelspec": {
   "display_name": "base",
   "language": "python",
   "name": "python3"
  },
  "language_info": {
   "codemirror_mode": {
    "name": "ipython",
    "version": 3
   },
   "file_extension": ".py",
   "mimetype": "text/x-python",
   "name": "python",
   "nbconvert_exporter": "python",
   "pygments_lexer": "ipython3",
   "version": "3.10.14"
  }
 },
 "nbformat": 4,
 "nbformat_minor": 2
}
